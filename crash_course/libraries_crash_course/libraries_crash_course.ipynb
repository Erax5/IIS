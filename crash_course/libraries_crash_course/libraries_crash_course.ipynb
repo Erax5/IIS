{
 "cells": [
  {
   "cell_type": "markdown",
   "metadata": {},
   "source": [
    "# NumPy, PyPlot, and Pandas\n",
    "\n",
    "*__Note:__ This notebook is a crash course on essential libraries for Python. If you are new to Python, please check the* Python Crash Course *first.*\n",
    "\n",
    "Most math-heavy Python projects rely on a standard set of libraries for number manipulation ([NumPy](https://numpy.org/)), plotting ([Matplotlib / PyPlot](https://matplotlib.org/)), and data processing ([Pandas](https://pandas.pydata.org/)). The goal of this notebook is to introduce you to what each library does, and show its basic usage. In short,\n",
    "\n",
    "* **NumPy** deals with numbers, vectors, matrices, and similar numerical structures. It allows us to do fast operations, and includes many helper libraries (random number generation, Fourier transforms, linear algebra...). Its basic data structure is the `ndarray`, a \"n-dimensional array of numbers\".\n",
    "* **PyPlot** allows us to easily draw mathematical functions and plot data. Its parent project, **Matplotlib**, is a drawing and visualisation framework that even allows us to build interactive GUIs.\n",
    "* **Pandas** deals with tabular data, similar to Excel and relational databases. It allows us to import data from external sources, filter and process it, and export it again. Its basic data structure is the `dataframe`, a table containing one column per variable and one row per data entry.\n",
    "\n",
    "Let's start with some notebook settings and our imports:"
   ]
  },
  {
   "cell_type": "code",
   "execution_count": 90,
   "metadata": {},
   "outputs": [],
   "source": [
    "%matplotlib inline"
   ]
  },
  {
   "cell_type": "code",
   "execution_count": 91,
   "metadata": {},
   "outputs": [],
   "source": [
    "import numpy as np\n",
    "import matplotlib.pyplot as plt\n",
    "import pandas as pd"
   ]
  },
  {
   "cell_type": "markdown",
   "metadata": {},
   "source": [
    "## 1. NumPy\n",
    "\n",
    "### 1.1 Array Creation and Basic Operations\n",
    "\n",
    "Suppose we are working with linear algebra and want to multiply a vector by a scalar, or a matrix by a vector. How do we do this in Python?\n",
    "\n",
    "Without using libraries, we could use lists of numbers to represent vectors: `[ v_1, v_2, ... ]`. We could also use lists-of-lists to represent matrices: `[ [ m_11, m_12, ... ], [ m_21, m_22, ... ], ... ]`. We would then have to Use for-loops to do the operations. This raises some issues:\n",
    "\n",
    "1. We have to make sure we make no mistakes writing the loops.\n",
    "2. We have to make sure we don't accidentally make matrices where some rows are longer than others.\n",
    "3. We have to make sure we don't accidentally mix data types (e.g., accidentally putting a string in our matrix).\n",
    "4. Python loops execute very slowly compared to \"low-level\" languages like `C` or `Rust`.\n",
    "\n",
    "Luckily, there is a standard solution to these problems: NumPy. NumPy is a widely supported library, based around the idea of *multi-dimensional arrays*, and operating on them.\n",
    "\n",
    "Let's explore NumPy with some basic linear algebra. First, let's initialize some variables:"
   ]
  },
  {
   "cell_type": "code",
   "execution_count": 3,
   "metadata": {
    "scrolled": true
   },
   "outputs": [
    {
     "name": "stdout",
     "output_type": "stream",
     "text": [
      "[λ] type: <class 'numpy.ndarray'>; dimensions: 0; shape: (); data type: float64; value: 1.5\n",
      "[u] type: <class 'numpy.ndarray'>; dimensions: 1; shape: (3,); data type: float64; value: [0. 0. 0.]\n",
      "[v] type: <class 'numpy.ndarray'>; dimensions: 1; shape: (3,); data type: float64; value: [1. 1. 1.]\n",
      "[w] type: <class 'numpy.ndarray'>; dimensions: 1; shape: (3,); data type: int64; value: [0 1 2]\n",
      "[M] type: <class 'numpy.ndarray'>; dimensions: 2; shape: (2, 3); data type: int64; value: [[1 2 3]\n",
      " [4 5 6]]\n"
     ]
    }
   ],
   "source": [
    "λ = np.array(1.5) # 0D array (scalar)\n",
    "u = np.zeros(shape=(3,)) # 1D array (vector)\n",
    "v = np.ones(shape=(3,)) # 1D array (vector)\n",
    "w = np.arange(3) # 1D array (vector)\n",
    "M = np.array([ [ 1, 2, 3 ], [ 4, 5, 6 ] ]) # 2D array (matrix)\n",
    "\n",
    "print(f\"[λ] type: {type(λ)}; dimensions: {λ.ndim}; shape: {λ.shape}; data type: {λ.dtype}; value: {λ}\")\n",
    "print(f\"[u] type: {type(u)}; dimensions: {u.ndim}; shape: {u.shape}; data type: {u.dtype}; value: {u}\")\n",
    "print(f\"[v] type: {type(v)}; dimensions: {v.ndim}; shape: {v.shape}; data type: {v.dtype}; value: {v}\")\n",
    "print(f\"[w] type: {type(w)}; dimensions: {w.ndim}; shape: {w.shape}; data type: {w.dtype}; value: {w}\")\n",
    "print(f\"[M] type: {type(M)}; dimensions: {M.ndim}; shape: {M.shape}; data type: {M.dtype}; value: {M}\")"
   ]
  },
  {
   "cell_type": "markdown",
   "metadata": {},
   "source": [
    "We created a scalar (number) `λ`; three vectors (1D arrays) `u`, `v`, and `w`; and a matrix (2D array) `M`. Some observations:\n",
    "\n",
    "* All variables share the same type: `ndarray`. \n",
    "* The field `ndim` returns the number of dimensions.\n",
    "* The field `shape` returns a tuple indicating the number of entries per dimension.\n",
    "* The field `dtype` (*data type*) indicates what kind of data is used to represent an entry. In this case, we have `np.float64` for 64-bit floating-point numbers, and `np.int64` for 64-bit integers.\n",
    "\n",
    "We used four different functions to initialize the arrays:\n",
    "\n",
    "* `np.array()` converts a number, list, list of lists... into an `ndarray`.\n",
    "* `np.zeros()` makes an `ndarray` with the desired shape, filled with zeros.\n",
    "* `np.ones()` makes an `ndarray` with the desired shape, filled with ones.\n",
    "* `np.arange()` makes a 1D `ndarray` filled with consecutive numbers (0, 1, 2...)"
   ]
  },
  {
   "cell_type": "markdown",
   "metadata": {},
   "source": [
    "We are not limited to 2 dimensions. We can make higher-dimensional objects. Here is a 3D array:"
   ]
  },
  {
   "cell_type": "code",
   "execution_count": 4,
   "metadata": {},
   "outputs": [
    {
     "name": "stdout",
     "output_type": "stream",
     "text": [
      "Shape: (2, 3, 4)\n",
      "Contents:\n",
      "[[[111 112 113 114]\n",
      "  [121 122 123 124]\n",
      "  [131 132 133 134]]\n",
      "\n",
      " [[211 212 213 214]\n",
      "  [221 222 223 224]\n",
      "  [231 232 233 234]]]\n"
     ]
    }
   ],
   "source": [
    "A = np.array([\n",
    "    [\n",
    "        [ 111, 112, 113, 114 ],\n",
    "        [ 121, 122, 123, 124 ],\n",
    "        [ 131, 132, 133, 134 ],\n",
    "    ],\n",
    "    [\n",
    "        [ 211, 212, 213, 214 ],\n",
    "        [ 221, 222, 223, 224 ],\n",
    "        [ 231, 232, 233, 234 ],\n",
    "    ],\n",
    "])\n",
    "\n",
    "print(f\"Shape: {A.shape}\")\n",
    "print(\"Contents:\")\n",
    "print(A)"
   ]
  },
  {
   "cell_type": "markdown",
   "metadata": {},
   "source": [
    "If two arrays have the same size, we can do per-element operations:"
   ]
  },
  {
   "cell_type": "code",
   "execution_count": 5,
   "metadata": {},
   "outputs": [
    {
     "data": {
      "text/plain": [
       "(array([0., 0., 0.]), array([1., 1., 1.]), array([0, 1, 2]))"
      ]
     },
     "execution_count": 5,
     "metadata": {},
     "output_type": "execute_result"
    }
   ],
   "source": [
    "u, v, w"
   ]
  },
  {
   "cell_type": "code",
   "execution_count": 6,
   "metadata": {},
   "outputs": [
    {
     "data": {
      "text/plain": [
       "(array([1., 1., 1.]), array([1., 2., 3.]))"
      ]
     },
     "execution_count": 6,
     "metadata": {},
     "output_type": "execute_result"
    }
   ],
   "source": [
    "u + v, v + w"
   ]
  },
  {
   "cell_type": "code",
   "execution_count": 7,
   "metadata": {},
   "outputs": [
    {
     "data": {
      "text/plain": [
       "(array([0., 0., 0.]), array([0, 1, 4]))"
      ]
     },
     "execution_count": 7,
     "metadata": {},
     "output_type": "execute_result"
    }
   ],
   "source": [
    "u * v, w * w"
   ]
  },
  {
   "cell_type": "markdown",
   "metadata": {},
   "source": [
    "Note that `*` does not perform a \"typical\" mathematical vector product, like the dot product or the cross product. It operates per-element. We can use methods and functions for the traditional products:"
   ]
  },
  {
   "cell_type": "code",
   "execution_count": 8,
   "metadata": {},
   "outputs": [
    {
     "data": {
      "text/plain": [
       "(0.0, 5)"
      ]
     },
     "execution_count": 8,
     "metadata": {},
     "output_type": "execute_result"
    }
   ],
   "source": [
    "# https://en.wikipedia.org/wiki/Dot_product\n",
    "u.dot(v), w.dot(w)"
   ]
  },
  {
   "cell_type": "code",
   "execution_count": 9,
   "metadata": {},
   "outputs": [
    {
     "data": {
      "text/plain": [
       "array([ 1., -2.,  1.])"
      ]
     },
     "execution_count": 9,
     "metadata": {},
     "output_type": "execute_result"
    }
   ],
   "source": [
    "# https://en.wikipedia.org/wiki/Cross_product\n",
    "np.cross(v, w)"
   ]
  },
  {
   "cell_type": "markdown",
   "metadata": {},
   "source": [
    "For normal matrix multiplication, we can use the operator `@` instead."
   ]
  },
  {
   "cell_type": "code",
   "execution_count": 10,
   "metadata": {},
   "outputs": [
    {
     "data": {
      "text/plain": [
       "(array([0., 0.]), array([ 6., 15.]), array([ 8, 17]))"
      ]
     },
     "execution_count": 10,
     "metadata": {},
     "output_type": "execute_result"
    }
   ],
   "source": [
    "# https://en.wikipedia.org/wiki/Matrix_multiplication\n",
    "M @ u, M @ v, M @ w"
   ]
  },
  {
   "cell_type": "markdown",
   "metadata": {},
   "source": [
    "In the case of two equal-length vectors, this becomes the dot product:"
   ]
  },
  {
   "cell_type": "code",
   "execution_count": 11,
   "metadata": {},
   "outputs": [
    {
     "data": {
      "text/plain": [
       "(0.0, 5)"
      ]
     },
     "execution_count": 11,
     "metadata": {},
     "output_type": "execute_result"
    }
   ],
   "source": [
    "# Equivalent to u.dot(v), w.dot(w)\n",
    "u @ v, w @ w"
   ]
  },
  {
   "cell_type": "markdown",
   "metadata": {},
   "source": [
    "Of course, for \"proper\" matrix multiplication the dimensions must match:"
   ]
  },
  {
   "cell_type": "code",
   "execution_count": 12,
   "metadata": {},
   "outputs": [
    {
     "ename": "ValueError",
     "evalue": "matmul: Input operand 1 has a mismatch in its core dimension 0, with gufunc signature (n?,k),(k,m?)->(n?,m?) (size 2 is different from 3)",
     "output_type": "error",
     "traceback": [
      "\u001b[0;31m---------------------------------------------------------------------------\u001b[0m",
      "\u001b[0;31mValueError\u001b[0m                                Traceback (most recent call last)",
      "Cell \u001b[0;32mIn[12], line 1\u001b[0m\n\u001b[0;32m----> 1\u001b[0m \u001b[43mu\u001b[49m\u001b[43m \u001b[49m\u001b[38;5;241;43m@\u001b[39;49m\u001b[43m \u001b[49m\u001b[43mM\u001b[49m \u001b[38;5;66;03m# Fails with ValueError\u001b[39;00m\n",
      "\u001b[0;31mValueError\u001b[0m: matmul: Input operand 1 has a mismatch in its core dimension 0, with gufunc signature (n?,k),(k,m?)->(n?,m?) (size 2 is different from 3)"
     ]
    }
   ],
   "source": [
    "u @ M # Fails with ValueError"
   ]
  },
  {
   "cell_type": "markdown",
   "metadata": {},
   "source": [
    "In general, NumPy prefers element-wise operations. If two arrays have different numbers of dimensions, NumPy will try to be smart and extend an element-wise operation as adequate. Multiplying a 0D array by a 1D array provides the usual scalar-vector product:"
   ]
  },
  {
   "cell_type": "code",
   "execution_count": 13,
   "metadata": {},
   "outputs": [
    {
     "data": {
      "text/plain": [
       "(array([0., 0., 0.]), array([1.5, 1.5, 1.5]), array([0. , 1.5, 3. ]))"
      ]
     },
     "execution_count": 13,
     "metadata": {},
     "output_type": "execute_result"
    }
   ],
   "source": [
    "# Multiplies every element of the vector by the scalar value.\n",
    "λ * u, λ * v, λ * w"
   ]
  },
  {
   "cell_type": "markdown",
   "metadata": {},
   "source": [
    "The system used to match arrays with different numbers of dimensions is called *broadcasting*. [The rules](https://numpy.org/doc/stable/user/basics.broadcasting.html) are complicated; you are not expected to master them."
   ]
  },
  {
   "cell_type": "markdown",
   "metadata": {},
   "source": [
    "#### Exercise 1\n",
    "\n",
    "1. Create a 1D array called `x` with values `[-7, 5, -3]`.\n",
    "2. Create a 2D array called `y` of shape `(2, 2)`, filled with zeroes.\n",
    "3. Create a 3D array called `z` of shape `(2, 3, 4)`, filled with ones."
   ]
  },
  {
   "cell_type": "code",
   "execution_count": 14,
   "metadata": {},
   "outputs": [
    {
     "name": "stdout",
     "output_type": "stream",
     "text": [
      "[x] type: <class 'numpy.ndarray'>; dimensions: 1; shape: (3,); data type: int64; value: [-7  5 -3]\n",
      "[y] type: <class 'numpy.ndarray'>; dimensions: 2; shape: (2, 2); data type: float64; value: [[0. 0.]\n",
      " [0. 0.]]\n",
      "[z] type: <class 'numpy.ndarray'>; dimensions: 3; shape: (2, 3, 4); data type: float64; value: [[[1. 1. 1. 1.]\n",
      "  [1. 1. 1. 1.]\n",
      "  [1. 1. 1. 1.]]\n",
      "\n",
      " [[1. 1. 1. 1.]\n",
      "  [1. 1. 1. 1.]\n",
      "  [1. 1. 1. 1.]]]\n"
     ]
    }
   ],
   "source": [
    "x = np.array([-7, 5, -3])\n",
    "print(f\"[x] type: {type(x)}; dimensions: {x.ndim}; shape: {x.shape}; data type: {x.dtype}; value: {x}\")\n",
    "y = np.zeros(shape=(2,2))\n",
    "print(f\"[y] type: {type(y)}; dimensions: {y.ndim}; shape: {y.shape}; data type: {y.dtype}; value: {y}\")\n",
    "z = np.ones(shape=(2,3,4))\n",
    "print(f\"[z] type: {type(z)}; dimensions: {z.ndim}; shape: {z.shape}; data type: {z.dtype}; value: {z}\")"
   ]
  },
  {
   "cell_type": "markdown",
   "metadata": {},
   "source": [
    "#### Exercise 2\n",
    "\n",
    "1. Calculate the scalar product $2 \\cdot z$.\n",
    "2. Calculate the matrix-vector product $M x$."
   ]
  },
  {
   "cell_type": "code",
   "execution_count": 15,
   "metadata": {},
   "outputs": [
    {
     "data": {
      "text/plain": [
       "array([ -6, -21])"
      ]
     },
     "execution_count": 15,
     "metadata": {},
     "output_type": "execute_result"
    }
   ],
   "source": [
    "z*2\n",
    "M@x"
   ]
  },
  {
   "cell_type": "markdown",
   "metadata": {},
   "source": [
    "#### Exercise 3\n",
    "\n",
    "1. Use `np.array()` to create a 2-by-2 matrix `T` with entries `T[0, 0] = 0`, `T[0, 1] = -1`, `T[1, 0] = 1`, `T[1, 1] = 0`. Verify that the values are correct.\n",
    "2. Use `np.arange()` to create the vector `p = (1, 2)`.\n",
    "3. Multiply `T` by `p` repeatedly (using matrix-vector multiplication), and print the result at every iteration. What happens to the result?"
   ]
  },
  {
   "cell_type": "code",
   "execution_count": 16,
   "metadata": {},
   "outputs": [
    {
     "name": "stdout",
     "output_type": "stream",
     "text": [
      "[T] type: <class 'numpy.ndarray'>; dimensions: 2; shape: (2, 2); data type: int64; value: [[ 0 -1]\n",
      " [ 1  0]]\n",
      "[1 2]\n"
     ]
    }
   ],
   "source": [
    "T = np.array([ [ 0, -1 ], [ 1, 0 ] ])\n",
    "print(f\"[T] type: {type(T)}; dimensions: {T.ndim}; shape: {T.shape}; data type: {T.dtype}; value: {T}\")\n",
    "p = np.arange(1,3)\n",
    "print(p)\n"
   ]
  },
  {
   "cell_type": "markdown",
   "metadata": {},
   "source": [
    "### 1.2 More Operations\n",
    "\n",
    "NumPy also provides common mathematical functions as element-wise operations:"
   ]
  },
  {
   "cell_type": "code",
   "execution_count": 17,
   "metadata": {},
   "outputs": [
    {
     "name": "stdout",
     "output_type": "stream",
     "text": [
      "[w]   [0 1 2]\n",
      "[exp] [1.         2.71828183 7.3890561 ]\n",
      "[log] [      -inf 0.         0.69314718]\n",
      "[sin] [0.         0.84147098 0.90929743]\n"
     ]
    },
    {
     "name": "stderr",
     "output_type": "stream",
     "text": [
      "/tmp/ipykernel_372088/3317415454.py:3: RuntimeWarning: divide by zero encountered in log\n",
      "  print(f\"[log] {np.log(w)}\") # Raises RuntimeWarning (log(0) is problematic).\n"
     ]
    }
   ],
   "source": [
    "print(f\"[w]   {w}\")\n",
    "print(f\"[exp] {np.exp(w)}\")\n",
    "print(f\"[log] {np.log(w)}\") # Raises RuntimeWarning (log(0) is problematic).\n",
    "print(f\"[sin] {np.sin(w)}\")"
   ]
  },
  {
   "cell_type": "markdown",
   "metadata": {},
   "source": [
    "#### Exercise 4\n",
    "\n",
    "1. Write a function called `logistic()` that takes in an ndarray `z` and calculates the *logistic function*\n",
    "$$ \\sigma(\\mathbf{z}) = \\frac{1}{1 + e^{-\\mathbf{z}}} $$\n",
    "2. Apply `logistic()` to `v` and `w`."
   ]
  },
  {
   "cell_type": "code",
   "execution_count": 19,
   "metadata": {},
   "outputs": [
    {
     "name": "stdout",
     "output_type": "stream",
     "text": [
      "[0.73105858 0.73105858 0.73105858]\n",
      "[0.5        0.73105858 0.88079708]\n"
     ]
    }
   ],
   "source": [
    "def logistic(z):\n",
    "    return (1/(1 + np.exp(-z)))\n",
    "\n",
    "print(logistic(v))\n",
    "print(logistic(w))\n",
    "    "
   ]
  },
  {
   "cell_type": "markdown",
   "metadata": {},
   "source": [
    "### 1.3 Basic Indexing (Reading)\n",
    "\n",
    "NumPy arrays can be indexed by numbers:"
   ]
  },
  {
   "cell_type": "code",
   "execution_count": 21,
   "metadata": {},
   "outputs": [
    {
     "data": {
      "text/plain": [
       "(0.0, 1.0, 2, 6, 121)"
      ]
     },
     "execution_count": 21,
     "metadata": {},
     "output_type": "execute_result"
    }
   ],
   "source": [
    "u[0], v[1], w[2], M[1, 2], A[0, 1, 0]"
   ]
  },
  {
   "cell_type": "markdown",
   "metadata": {},
   "source": [
    "If we don't pass a whole set of indices, we get an array:"
   ]
  },
  {
   "cell_type": "code",
   "execution_count": 23,
   "metadata": {},
   "outputs": [
    {
     "name": "stdout",
     "output_type": "stream",
     "text": [
      "==== M[1] ====\n",
      "[4 5 6]\n",
      "==== A[0] ====\n",
      "[[111 112 113 114]\n",
      " [121 122 123 124]\n",
      " [131 132 133 134]]\n",
      "==== A[0, 1] ====\n",
      "[121 122 123 124]\n"
     ]
    }
   ],
   "source": [
    "print(f\"==== M[1] ====\\n{M[1]}\") # The whole second row (first index = 1).\n",
    "print(f\"==== A[0] ====\\n{A[0]}\") # In a 3D volume, we get a 2D slice (first index = 0).\n",
    "print(f\"==== A[0, 1] ====\\n{A[0, 1]}\") # With an extra index, we get a 1D line (first two indices = (0,1))."
   ]
  },
  {
   "cell_type": "markdown",
   "metadata": {},
   "source": [
    "What if we want to get a *column* in M? We can use *slice* notation:"
   ]
  },
  {
   "cell_type": "code",
   "execution_count": 24,
   "metadata": {},
   "outputs": [
    {
     "data": {
      "text/plain": [
       "array([1, 4])"
      ]
     },
     "execution_count": 24,
     "metadata": {},
     "output_type": "execute_result"
    }
   ],
   "source": [
    "M[:, 0] # Get the first column (second index = 0)"
   ]
  },
  {
   "cell_type": "markdown",
   "metadata": {},
   "source": [
    "We can also get a range of indices:"
   ]
  },
  {
   "cell_type": "code",
   "execution_count": 25,
   "metadata": {},
   "outputs": [
    {
     "data": {
      "text/plain": [
       "array([1, 2])"
      ]
     },
     "execution_count": 25,
     "metadata": {},
     "output_type": "execute_result"
    }
   ],
   "source": [
    "w[1:3] # Get everything where the index is 1 <= idx < 3 (3 not included)."
   ]
  },
  {
   "cell_type": "code",
   "execution_count": 26,
   "metadata": {},
   "outputs": [
    {
     "data": {
      "text/plain": [
       "array([[[111, 112],\n",
       "        [121, 122],\n",
       "        [131, 132]],\n",
       "\n",
       "       [[211, 212],\n",
       "        [221, 222],\n",
       "        [231, 232]]])"
      ]
     },
     "execution_count": 26,
     "metadata": {},
     "output_type": "execute_result"
    }
   ],
   "source": [
    "A[:, :, 0:2] # Get everything where the third index is 0 <= idx < 2 (2 not included)."
   ]
  },
  {
   "cell_type": "markdown",
   "metadata": {},
   "source": [
    "If the first number in the slice expression is 0, we can skip it:"
   ]
  },
  {
   "cell_type": "code",
   "execution_count": 27,
   "metadata": {},
   "outputs": [
    {
     "data": {
      "text/plain": [
       "array([[[111, 112],\n",
       "        [121, 122],\n",
       "        [131, 132]],\n",
       "\n",
       "       [[211, 212],\n",
       "        [221, 222],\n",
       "        [231, 232]]])"
      ]
     },
     "execution_count": 27,
     "metadata": {},
     "output_type": "execute_result"
    }
   ],
   "source": [
    "A[:, :, :2] # Get everything where the third index is 0 <= idx < 2 (0 implied)."
   ]
  },
  {
   "cell_type": "markdown",
   "metadata": {},
   "source": [
    "If the second number in the slice expression is the maximum possible, we can also skip it:"
   ]
  },
  {
   "cell_type": "code",
   "execution_count": 28,
   "metadata": {},
   "outputs": [
    {
     "data": {
      "text/plain": [
       "array([1, 2])"
      ]
     },
     "execution_count": 28,
     "metadata": {},
     "output_type": "execute_result"
    }
   ],
   "source": [
    "w[1:] # Get everything where the index is 1 <= idx < 3 (3 implied)."
   ]
  },
  {
   "cell_type": "markdown",
   "metadata": {},
   "source": [
    "In other words, there are four *slicing expression* variants:\n",
    "1. Give the start (inclusive) and end (exclusive): `w[1:2] == [ 1 ]`\n",
    "2. Give the start (inclusive): `w[1:] == [ 1, 2 ]`\n",
    "2. Give the end (exclusive): `w[:2] == [ 0, 1 ]`\n",
    "3. Skip both: `w[:] == [ 0, 1, 2 ]`"
   ]
  },
  {
   "cell_type": "markdown",
   "metadata": {},
   "source": [
    "#### Exercise 5\n",
    "\n",
    "1. Use a list comprehension to create a NumPy array containing the numbers `[ 0, 1, ..., 9 ]`.\n",
    "2. Use slice notation to access the sub-array `[ 2, 3, 4 ]`.\n",
    "\n",
    "*__Hint:__ Review the Python Crash Course if you don't know what a list comprehension is.*"
   ]
  },
  {
   "cell_type": "code",
   "execution_count": 52,
   "metadata": {},
   "outputs": [
    {
     "name": "stdout",
     "output_type": "stream",
     "text": [
      "[2 3 4]\n"
     ]
    }
   ],
   "source": [
    "for i in range(10):\n",
    "    numlist.append(i)\n",
    "    \n",
    "x = np.array(numlist)\n",
    "y = x[2:5]\n",
    "print(y)"
   ]
  },
  {
   "cell_type": "markdown",
   "metadata": {},
   "source": [
    "# Exercise 6\n",
    "\n",
    "Use slice notation to access the second column in `M`.\n",
    "\n",
    "*__Hint:__ The resulting array has values `[2, 5]`.*"
   ]
  },
  {
   "cell_type": "code",
   "execution_count": 72,
   "metadata": {},
   "outputs": [
    {
     "data": {
      "text/plain": [
       "array([2, 5])"
      ]
     },
     "execution_count": 72,
     "metadata": {},
     "output_type": "execute_result"
    }
   ],
   "source": [
    "M[:,1]"
   ]
  },
  {
   "cell_type": "markdown",
   "metadata": {},
   "source": [
    "### 1.4 Basic Indexing (Writing)\n",
    "\n",
    "Indexing also allows us to modify an array's values:"
   ]
  },
  {
   "cell_type": "code",
   "execution_count": 73,
   "metadata": {},
   "outputs": [
    {
     "data": {
      "text/plain": [
       "array([[0., 0., 0., 0., 0., 0.],\n",
       "       [0., 0., 0., 0., 0., 1.],\n",
       "       [0., 0., 0., 0., 0., 0.],\n",
       "       [0., 0., 0., 0., 0., 0.],\n",
       "       [0., 0., 0., 0., 0., 0.]])"
      ]
     },
     "execution_count": 73,
     "metadata": {},
     "output_type": "execute_result"
    }
   ],
   "source": [
    "Z = np.zeros(shape=(5,6))\n",
    "Z[1, 5] = 1\n",
    "Z"
   ]
  },
  {
   "cell_type": "markdown",
   "metadata": {},
   "source": [
    "We can set a whole sub-array at once:"
   ]
  },
  {
   "cell_type": "code",
   "execution_count": 75,
   "metadata": {
    "scrolled": true
   },
   "outputs": [
    {
     "data": {
      "text/plain": [
       "array([[0., 0., 0., 0., 0., 0.],\n",
       "       [0., 0., 0., 0., 0., 1.],\n",
       "       [2., 2., 2., 0., 0., 0.],\n",
       "       [2., 2., 2., 0., 0., 0.],\n",
       "       [0., 0., 0., 0., 0., 0.]])"
      ]
     },
     "execution_count": 75,
     "metadata": {},
     "output_type": "execute_result"
    }
   ],
   "source": [
    "Z[2:4, 0:3] = 2\n",
    "Z"
   ]
  },
  {
   "cell_type": "markdown",
   "metadata": {},
   "source": [
    "#### Exercise 7\n",
    "\n",
    "1. Create a 4D array of shape `(3, 3, 3, 3)`, filled with the number 10.\n",
    "2. Substitute all the entries with `third index = 1` with 5.\n",
    "3. Display all the entries where all indices are at most 1.\n",
    "\n",
    "*__Hint:__ You can use `np.full()` or a multiplication to initialize the array.*"
   ]
  },
  {
   "cell_type": "code",
   "execution_count": null,
   "metadata": {},
   "outputs": [],
   "source": []
  },
  {
   "cell_type": "code",
   "execution_count": 85,
   "metadata": {
    "scrolled": false
   },
   "outputs": [
    {
     "name": "stdout",
     "output_type": "stream",
     "text": [
      "[[[[10. 10.]\n",
      "   [ 5.  5.]]\n",
      "\n",
      "  [[10. 10.]\n",
      "   [ 5.  5.]]]\n",
      "\n",
      "\n",
      " [[[10. 10.]\n",
      "   [ 5.  5.]]\n",
      "\n",
      "  [[10. 10.]\n",
      "   [ 5.  5.]]]]\n"
     ]
    }
   ],
   "source": [
    "D = np.ones(shape=(3,3,3,3))\n",
    "D *= 10\n",
    "D[:3,:3,1,:3] = 5\n",
    "\n",
    "print(D[:2,:2,:2,:2])"
   ]
  },
  {
   "cell_type": "markdown",
   "metadata": {},
   "source": [
    "#### Exercise 8\n",
    "\n",
    "Time for Physics! Let's simulate an object thrown from the initial location `[ 2, 4 ]`, with an initial velocity `[5, 5]`, under a gravity strength of `2`. We will store the data as `[ x, y ]` rows on a table.\n",
    "\n",
    "1. Initialize an array named `trajectory`, with shape `(10, 2)`, and filled with zeros.\n",
    "2. Set the first row of `trajectory` to `[ 2, 4 ]`.\n",
    "3. Create a variable `velocity` and set it to `[ 5, 5 ]`.\n",
    "4. Iteratively update the next row in `trajectory` with its previous value + the current velocity, *and then* update the velocity with a constant acceleration `[ 0, -2 ]`.\n",
    "5. Print `trajectory`."
   ]
  },
  {
   "cell_type": "code",
   "execution_count": 112,
   "metadata": {},
   "outputs": [
    {
     "name": "stdout",
     "output_type": "stream",
     "text": [
      "[[2. 4.]\n",
      " [0. 0.]\n",
      " [0. 0.]\n",
      " [0. 0.]\n",
      " [0. 0.]\n",
      " [0. 0.]\n",
      " [0. 0.]\n",
      " [0. 0.]\n",
      " [0. 0.]\n",
      " [0. 0.]]\n",
      "[[  2.   4.]\n",
      " [  7.   9.]\n",
      " [ 12.  12.]\n",
      " [ 17.  13.]\n",
      " [ 22.  12.]\n",
      " [ 27.   9.]\n",
      " [ 32.   4.]\n",
      " [ 37.  -3.]\n",
      " [ 42. -12.]\n",
      " [ 47. -23.]]\n"
     ]
    }
   ],
   "source": [
    "trajectory = np.zeros(shape=(10,2))\n",
    "trajectory[0,:] = [2,4]\n",
    "print(trajectory)\n",
    "\n",
    "velocity = [5,5]\n",
    "\n",
    "for x in range(9):\n",
    "    trajectory[x+1, :] =  trajectory[x, :] + velocity\n",
    "    velocity[1] -= 2\n",
    "\n",
    "print(trajectory)"
   ]
  },
  {
   "cell_type": "markdown",
   "metadata": {},
   "source": [
    "### 1.5 Comparisons and Conditional Indexing\n",
    "\n",
    "If we perform a numerical comparison, we obtain an array of boolean values (data type `bool`):"
   ]
  },
  {
   "cell_type": "code",
   "execution_count": 113,
   "metadata": {},
   "outputs": [
    {
     "data": {
      "text/plain": [
       "array([[False, False,  True],\n",
       "       [ True,  True,  True]])"
      ]
     },
     "execution_count": 113,
     "metadata": {},
     "output_type": "execute_result"
    }
   ],
   "source": [
    "M > 2"
   ]
  },
  {
   "cell_type": "code",
   "execution_count": 114,
   "metadata": {},
   "outputs": [
    {
     "data": {
      "text/plain": [
       "dtype('bool')"
      ]
     },
     "execution_count": 114,
     "metadata": {},
     "output_type": "execute_result"
    }
   ],
   "source": [
    "(M > 2).dtype"
   ]
  },
  {
   "cell_type": "code",
   "execution_count": 115,
   "metadata": {},
   "outputs": [
    {
     "data": {
      "text/plain": [
       "array([False,  True,  True])"
      ]
     },
     "execution_count": 115,
     "metadata": {},
     "output_type": "execute_result"
    }
   ],
   "source": [
    "v <= w"
   ]
  },
  {
   "cell_type": "markdown",
   "metadata": {},
   "source": [
    "Boolean arrays can be used to index into an array:"
   ]
  },
  {
   "cell_type": "code",
   "execution_count": 116,
   "metadata": {},
   "outputs": [
    {
     "data": {
      "text/plain": [
       "array([3, 4, 5, 6])"
      ]
     },
     "execution_count": 116,
     "metadata": {},
     "output_type": "execute_result"
    }
   ],
   "source": [
    "M[M > 2] # The array loses its shape!"
   ]
  },
  {
   "cell_type": "code",
   "execution_count": 117,
   "metadata": {},
   "outputs": [
    {
     "data": {
      "text/plain": [
       "array([[ 1,  2,  6],\n",
       "       [ 8, 10, 12]])"
      ]
     },
     "execution_count": 117,
     "metadata": {},
     "output_type": "execute_result"
    }
   ],
   "source": [
    "M[M > 2] *= 2 # We can modify the original array in-place.\n",
    "M"
   ]
  },
  {
   "cell_type": "markdown",
   "metadata": {},
   "source": [
    "#### Exercise 9\n",
    "\n",
    "1. Create a vector `twos` of shape `(5,)` filled with twos, and a vector `count` of shape `(5,)` filled with consecutive numbers (0, 1, 2...). \n",
    "2. Create a new vector `big`, and use boolean indexing to fill it with the element-wise maximum of `twos` and `count`.\n",
    "3. Use `np.maximum()` to replicate point (2).\n",
    "\n",
    "*__Hint:__ Be careful with the case `twos == count` if you're starting from an empty slate! Another solution is to use the method `copy()` to replicate an `ndarray`.*"
   ]
  },
  {
   "cell_type": "code",
   "execution_count": 133,
   "metadata": {},
   "outputs": [
    {
     "name": "stdout",
     "output_type": "stream",
     "text": [
      "[2. 2. 2. 3. 4.]\n",
      "[2. 2. 2. 3. 4.]\n"
     ]
    }
   ],
   "source": [
    "twos = np.ones(shape=(5,))\n",
    "twos *= 2\n",
    "\n",
    "count = np.arange(5)\n",
    "\n",
    "big = np.zeros(shape=(5,))\n",
    "\n",
    "max = count > twos\n",
    "for x in range(5):\n",
    "    if(max[x]):\n",
    "        big[x] = count[x]\n",
    "    else:\n",
    "        big[x] = twos[x]\n",
    "print(big)\n",
    "\n",
    "big2 = np.maximum(twos, count)\n",
    "print(big2)\n"
   ]
  },
  {
   "cell_type": "markdown",
   "metadata": {},
   "source": [
    "### 1.6 Random Number Generation\n",
    "\n",
    "Sometimes, we need to collect \"random\" samples. NumPy provides *pseudo-random number generation* through `np.random`:"
   ]
  },
  {
   "cell_type": "code",
   "execution_count": 135,
   "metadata": {},
   "outputs": [
    {
     "data": {
      "text/plain": [
       "array([[0.3894611 , 0.4320389 , 0.18331585, 0.50158768],\n",
       "       [0.43379499, 0.63584123, 0.30260559, 0.640213  ],\n",
       "       [0.06903885, 0.63333656, 0.03099551, 0.26419645]])"
      ]
     },
     "execution_count": 135,
     "metadata": {},
     "output_type": "execute_result"
    }
   ],
   "source": [
    "rng = np.random.default_rng() # Get a random generator.\n",
    "\n",
    "rng.uniform(size=(3, 4))"
   ]
  },
  {
   "cell_type": "markdown",
   "metadata": {},
   "source": [
    "To generate random numbers, we need to create a `Generator`. We can get one with `default_rng()`. Once we have it, we can call its methods to generate random arrays of any given shape. Above, we used `rng.uniform()` to get uniformly distributed random floats in the range `[0, 1]`. Note the naming inconsistency: here, the shape parameter is called `size`.\n",
    "\n",
    "We can use other random distributions:"
   ]
  },
  {
   "cell_type": "code",
   "execution_count": 136,
   "metadata": {},
   "outputs": [
    {
     "data": {
      "text/plain": [
       "array([2.17434852, 1.99019798, 2.05933953, 1.83542381, 2.15893113])"
      ]
     },
     "execution_count": 136,
     "metadata": {},
     "output_type": "execute_result"
    }
   ],
   "source": [
    "rng.normal(loc=2, scale=0.5, size=(5,)) # Normal distribution with mean 2 and standard deviation 0.5"
   ]
  },
  {
   "cell_type": "code",
   "execution_count": 137,
   "metadata": {},
   "outputs": [
    {
     "data": {
      "text/plain": [
       "array([[ 0,  2, -1, -2,  1],\n",
       "       [ 0, -1,  0,  0, -2],\n",
       "       [ 0,  1,  2, -1, -1],\n",
       "       [ 0,  2,  3,  0,  1],\n",
       "       [-2,  2,  1,  3, -1]])"
      ]
     },
     "execution_count": 137,
     "metadata": {},
     "output_type": "execute_result"
    }
   ],
   "source": [
    "rng.integers(low=-2, high=4, size=(5, 5)) # Uniformly distributed integers in range -2 <= int < 4"
   ]
  },
  {
   "cell_type": "markdown",
   "metadata": {},
   "source": [
    "#### Exercise 10\n",
    "\n",
    "1. Instantiate a new random number generator.\n",
    "2. Use the new generator to create a 2-by-3 matrix with normally distributed numbers.\n",
    "3. Set all negative values to 0."
   ]
  },
  {
   "cell_type": "code",
   "execution_count": 151,
   "metadata": {},
   "outputs": [
    {
     "name": "stdout",
     "output_type": "stream",
     "text": [
      "[[-0.3716404   0.64228745 -0.53482265]\n",
      " [ 0.3800003  -0.53698919  0.10056298]]\n",
      "[[0.         0.64228745 0.        ]\n",
      " [0.3800003  0.         0.10056298]]\n"
     ]
    }
   ],
   "source": [
    "rng = np.random.default_rng()\n",
    "array = rng.normal(loc=0, scale=0.5, size=(2,3))\n",
    "print(array)\n",
    "array[array<0] = 0\n",
    "print(array)\n"
   ]
  },
  {
   "cell_type": "markdown",
   "metadata": {},
   "source": [
    "### 1.7 More Array Creation Techniques"
   ]
  },
  {
   "cell_type": "markdown",
   "metadata": {},
   "source": [
    "If we want to sample an interval homogeneously, we can use `np.linspace()`:"
   ]
  },
  {
   "cell_type": "code",
   "execution_count": 152,
   "metadata": {},
   "outputs": [
    {
     "data": {
      "text/plain": [
       "array([2.        , 2.06122449, 2.12244898, 2.18367347, 2.24489796,\n",
       "       2.30612245, 2.36734694, 2.42857143, 2.48979592, 2.55102041,\n",
       "       2.6122449 , 2.67346939, 2.73469388, 2.79591837, 2.85714286,\n",
       "       2.91836735, 2.97959184, 3.04081633, 3.10204082, 3.16326531,\n",
       "       3.2244898 , 3.28571429, 3.34693878, 3.40816327, 3.46938776,\n",
       "       3.53061224, 3.59183673, 3.65306122, 3.71428571, 3.7755102 ,\n",
       "       3.83673469, 3.89795918, 3.95918367, 4.02040816, 4.08163265,\n",
       "       4.14285714, 4.20408163, 4.26530612, 4.32653061, 4.3877551 ,\n",
       "       4.44897959, 4.51020408, 4.57142857, 4.63265306, 4.69387755,\n",
       "       4.75510204, 4.81632653, 4.87755102, 4.93877551, 5.        ])"
      ]
     },
     "execution_count": 152,
     "metadata": {},
     "output_type": "execute_result"
    }
   ],
   "source": [
    "np.linspace(2, 5)"
   ]
  },
  {
   "cell_type": "markdown",
   "metadata": {},
   "source": [
    "By default, `np.linspace()` creates 50 evenly distributed samples, including both ends. We can control the number of samples with `num` and including the endpoint with `endpoint`:"
   ]
  },
  {
   "cell_type": "code",
   "execution_count": 153,
   "metadata": {},
   "outputs": [
    {
     "data": {
      "text/plain": [
       "array([0.  , 0.25, 0.5 , 0.75, 1.  ])"
      ]
     },
     "execution_count": 153,
     "metadata": {},
     "output_type": "execute_result"
    }
   ],
   "source": [
    "np.linspace(0, 1, num=5)"
   ]
  },
  {
   "cell_type": "code",
   "execution_count": 156,
   "metadata": {},
   "outputs": [
    {
     "data": {
      "text/plain": [
       "array([-1.  , -0.75, -0.5 , -0.25,  0.  ,  0.25,  0.5 ,  0.75])"
      ]
     },
     "execution_count": 156,
     "metadata": {},
     "output_type": "execute_result"
    }
   ],
   "source": [
    "np.linspace(-1, +1, num=8, endpoint=False)"
   ]
  },
  {
   "cell_type": "markdown",
   "metadata": {},
   "source": [
    "Sometimes, we want a new array with the same `shape` and `dtype` as an existing array. Many array creation functions have a `_like` variant that does exactly that:"
   ]
  },
  {
   "cell_type": "code",
   "execution_count": 157,
   "metadata": {},
   "outputs": [
    {
     "data": {
      "text/plain": [
       "array([[[7.66250752, 4.954693  ],\n",
       "        [0.41658143, 1.65254024]],\n",
       "\n",
       "       [[6.54586358, 1.70671193],\n",
       "        [6.78526081, 9.36078119]]])"
      ]
     },
     "execution_count": 157,
     "metadata": {},
     "output_type": "execute_result"
    }
   ],
   "source": [
    "original = rng.uniform(high=10, size=(2, 2, 2))\n",
    "original"
   ]
  },
  {
   "cell_type": "code",
   "execution_count": 158,
   "metadata": {},
   "outputs": [
    {
     "data": {
      "text/plain": [
       "array([[[0., 0.],\n",
       "        [0., 0.]],\n",
       "\n",
       "       [[0., 0.],\n",
       "        [0., 0.]]])"
      ]
     },
     "execution_count": 158,
     "metadata": {},
     "output_type": "execute_result"
    }
   ],
   "source": [
    "zeros = np.zeros_like(original)\n",
    "zeros"
   ]
  },
  {
   "cell_type": "code",
   "execution_count": 159,
   "metadata": {},
   "outputs": [
    {
     "data": {
      "text/plain": [
       "array([[[1, 1],\n",
       "        [1, 1]],\n",
       "\n",
       "       [[1, 1],\n",
       "        [1, 1]]], dtype=int32)"
      ]
     },
     "execution_count": 159,
     "metadata": {},
     "output_type": "execute_result"
    }
   ],
   "source": [
    "ones = np.ones_like(original, dtype=np.int32)\n",
    "ones"
   ]
  },
  {
   "cell_type": "markdown",
   "metadata": {},
   "source": [
    "#### Exercise 11\n",
    "\n",
    "1. Create an array `samples` with 20 values, evenly distributed between 10 (inclusive) and 15 (exclusive).\n",
    "2. Create an array `values_0` that corresponds to $3 \\cdot samples - 1$.\n",
    "3. Create an array `values` by adding uniform random numbers between -0.5 (inclusive) and +0.5 (exclusive) to `values_0`."
   ]
  },
  {
   "cell_type": "code",
   "execution_count": 174,
   "metadata": {},
   "outputs": [
    {
     "name": "stdout",
     "output_type": "stream",
     "text": [
      "[10.   10.25 10.5  10.75 11.   11.25 11.5  11.75 12.   12.25 12.5  12.75\n",
      " 13.   13.25 13.5  13.75 14.   14.25 14.5  14.75]\n",
      "[29.   29.75 30.5  31.25 32.   32.75 33.5  34.25 35.   35.75 36.5  37.25\n",
      " 38.   38.75 39.5  40.25 41.   41.75 42.5  43.25]\n",
      "[29.08182924 29.58483367 30.59852428 30.80943023 31.90514696 33.06556482\n",
      " 33.09225249 34.24200925 34.86522536 35.57461323 36.16351729 36.92703658\n",
      " 37.685657   38.45704948 39.79024211 40.00126453 41.47432629 41.45003792\n",
      " 42.5346368  43.69699174]\n"
     ]
    }
   ],
   "source": [
    "# Your code here\n",
    "rng = np.random.default_rng()\n",
    "samples = np.linspace(10, 15, num=20, endpoint=False)\n",
    "print(sample)\n",
    "values_0 = 3 * samples - 1\n",
    "print(values_0)\n",
    "values = values_0 + rng.uniform(low=-0.5, high=0.5, size=20)\n",
    "print(values)"
   ]
  },
  {
   "cell_type": "markdown",
   "metadata": {},
   "source": [
    "## 2 PyPlot\n",
    "\n",
    "It's not enough to handle data and do math if we cannot visualize it. Sometimes the visualization is our final goal; sometimes it's a useful debugging tool. In any case, PyPlot is the go-to plotting library."
   ]
  },
  {
   "cell_type": "markdown",
   "metadata": {},
   "source": [
    "### 2.1 Just Plot\n",
    "\n",
    "Let's start with a simple example: plotting a nice, smooth function."
   ]
  },
  {
   "cell_type": "code",
   "execution_count": 175,
   "metadata": {},
   "outputs": [
    {
     "data": {
      "text/plain": [
       "[<matplotlib.lines.Line2D at 0x7fc943454520>]"
      ]
     },
     "execution_count": 175,
     "metadata": {},
     "output_type": "execute_result"
    },
    {
     "data": {
      "image/png": "[encoded data removed]",
      "text/plain": [
       "<Figure size 640x480 with 1 Axes>"
      ]
     },
     "metadata": {},
     "output_type": "display_data"
    }
   ],
   "source": [
    "x = np.linspace(start=0, stop=1, num=20)\n",
    "y0 = x ** 2\n",
    "\n",
    "plt.plot(x, y0)"
   ]
  },
  {
   "cell_type": "markdown",
   "metadata": {},
   "source": [
    "All we need is `plt.plot()`, passing the horizontal and vertical coordinates as 1D arrays.\n",
    "\n",
    "We can also add a shorthand string to change the visualization style:"
   ]
  },
  {
   "cell_type": "code",
   "execution_count": 176,
   "metadata": {},
   "outputs": [
    {
     "data": {
      "text/plain": [
       "[<matplotlib.lines.Line2D at 0x7fc943d1e050>]"
      ]
     },
     "execution_count": 176,
     "metadata": {},
     "output_type": "execute_result"
    },
    {
     "data": {
      "image/png": "[encoded data removed]",
      "text/plain": [
       "<Figure size 640x480 with 1 Axes>"
      ]
     },
     "metadata": {},
     "output_type": "display_data"
    }
   ],
   "source": [
    "plt.plot(x, y0, \"ro\")"
   ]
  },
  {
   "cell_type": "markdown",
   "metadata": {},
   "source": [
    "The typical shorthands are a color letter followed by a line style sign:\n",
    "* `r` red, `b` blue, `k` black...\n",
    "* `-` normal line, `--` dashed line, `o` circular marker, `+` vertical cross marker, `x` diagonal cross marker...\n",
    "\n",
    "Above, `\"ro\"` translated to \"red circles\". The same can be written more explicitly with keyword parameters:"
   ]
  },
  {
   "cell_type": "code",
   "execution_count": 177,
   "metadata": {},
   "outputs": [
    {
     "data": {
      "text/plain": [
       "[<matplotlib.lines.Line2D at 0x7fc94364ba90>]"
      ]
     },
     "execution_count": 177,
     "metadata": {},
     "output_type": "execute_result"
    },
    {
     "data": {
      "image/png": "[encoded data removed]",
      "text/plain": [
       "<Figure size 640x480 with 1 Axes>"
      ]
     },
     "metadata": {},
     "output_type": "display_data"
    }
   ],
   "source": [
    "plt.plot(x, y0, color=\"red\", marker=\"o\", linestyle=\"none\")"
   ]
  },
  {
   "cell_type": "markdown",
   "metadata": {},
   "source": [
    "A scientific plot needs labeled axes, and maybe a title. PyPlot allows you to build a plot over several steps."
   ]
  },
  {
   "cell_type": "code",
   "execution_count": 178,
   "metadata": {},
   "outputs": [
    {
     "data": {
      "image/png": "[encoded data removed]",
      "text/plain": [
       "<Figure size 640x480 with 1 Axes>"
      ]
     },
     "metadata": {},
     "output_type": "display_data"
    }
   ],
   "source": [
    "plt.plot(x, y0)\n",
    "\n",
    "plt.title(\"Quadratic Curve\")\n",
    "plt.xlabel(\"abscissa\")\n",
    "plt.ylabel(\"ordinate\")\n",
    "plt.legend([ \"curve\" ])\n",
    "\n",
    "plt.show()"
   ]
  },
  {
   "cell_type": "markdown",
   "metadata": {},
   "source": [
    "Some notes:\n",
    "\n",
    "* Notice the use of `plt.show()` at the end. In a notebook, this is optional, *unless* we're trying to display several plots in a single cell. `plt.show()` signals PyPlot to display the current plot, and then close / delete it.\n",
    "* Notice that if we finish the cell with one of the plotting commands (`plt.plot()`, `plt.title()`...), we get strange messages in the output, like `[<matplotlib.lines.Line2D at 0x7febcd5c4640>]`. This is because these functions return handles used for some advanced drawing commands. As usual, Jupyter is trying to display the last returned object.\n",
    "\n",
    "In particular, this means that if we *don't* use `plt.show()`, we can combine several graphs in one go. Let's add some noise to show that:"
   ]
  },
  {
   "cell_type": "code",
   "execution_count": 179,
   "metadata": {},
   "outputs": [],
   "source": [
    "rng = np.random.default_rng()\n",
    "\n",
    "# Normally distributed noise that gets noisier as x increases\n",
    "y = y0 + x * rng.normal(scale=0.1, size=x.shape)"
   ]
  },
  {
   "cell_type": "code",
   "execution_count": 180,
   "metadata": {},
   "outputs": [
    {
     "data": {
      "text/plain": [
       "Text(0.5, 1.0, 'Combined Graphs')"
      ]
     },
     "execution_count": 180,
     "metadata": {},
     "output_type": "execute_result"
    },
    {
     "data": {
      "image/png": "[encoded data removed]",
      "text/plain": [
       "<Figure size 640x480 with 1 Axes>"
      ]
     },
     "metadata": {},
     "output_type": "display_data"
    }
   ],
   "source": [
    "plt.plot(x, y, \"gx\")\n",
    "plt.plot(x, y0, \"k--\")\n",
    "plt.title(\"Combined Graphs\")"
   ]
  },
  {
   "cell_type": "markdown",
   "metadata": {},
   "source": [
    "`plt.plot()` allows us to do this in a single call, for simple cases:"
   ]
  },
  {
   "cell_type": "code",
   "execution_count": null,
   "metadata": {},
   "outputs": [],
   "source": [
    "plt.plot(x, y, \"gx\", x, y0, \"k--\")"
   ]
  },
  {
   "cell_type": "markdown",
   "metadata": {},
   "source": [
    "#### Exercise 12\n",
    "\n",
    "Plot the data from Exercise 11: use `samples` as the abcissa; use `values` and `values_0` as the ordinates. \n",
    "\n",
    "1. Use `plt.show()` to make two separate plots in a single cell: one for `values`, and one for `values_0`.\n",
    "2. Use your favorite method to combine both graphs into one. Make sure to use different colors and styles for each graph, and have a clear legend."
   ]
  },
  {
   "cell_type": "code",
   "execution_count": 200,
   "metadata": {},
   "outputs": [
    {
     "data": {
      "image/png": "[encoded data removed]",
      "text/plain": [
       "<Figure size 640x480 with 1 Axes>"
      ]
     },
     "metadata": {},
     "output_type": "display_data"
    }
   ],
   "source": [
    "plt.title(\"Exercise 11\")\n",
    "plt.plot(samples, values, \"gx\")\n",
    "plt.xlabel(\"samples\")\n",
    "plt.ylabel(\"values\")\n",
    "plt.legend([ \"values\" ])\n",
    "plt.plot(samples, values_0, \"k--\")\n",
    "\n",
    "plt.show()"
   ]
  },
  {
   "cell_type": "markdown",
   "metadata": {},
   "source": [
    "### 2.2 Plot the Matrix\n",
    "\n",
    "So far, we have discussed the basic usage for PyPlot: showing single-variable graphs. However, it can also be used to display other kinds of data. As a first example, we can use `plt.matshow()` to display matrices. Let's create a small random matrix and see how this looks:"
   ]
  },
  {
   "cell_type": "code",
   "execution_count": 201,
   "metadata": {},
   "outputs": [
    {
     "data": {
      "text/plain": [
       "array([[0, 6, 1, 0, 2],\n",
       "       [1, 4, 6, 2, 1],\n",
       "       [0, 8, 8, 1, 6],\n",
       "       [9, 8, 9, 8, 7],\n",
       "       [3, 3, 6, 3, 5]])"
      ]
     },
     "execution_count": 201,
     "metadata": {},
     "output_type": "execute_result"
    },
    {
     "data": {
      "image/png": "[encoded data removed]",
      "text/plain": [
       "<Figure size 480x480 with 1 Axes>"
      ]
     },
     "metadata": {},
     "output_type": "display_data"
    }
   ],
   "source": [
    "W = rng.integers(low=0, high=10, size=(5, 5))\n",
    "\n",
    "plt.matshow(W)\n",
    "plt.title(\"Values in Matrix W\")\n",
    "plt.xlabel(\"columns\")\n",
    "plt.ylabel(\"rows\")\n",
    "\n",
    "W"
   ]
  },
  {
   "cell_type": "markdown",
   "metadata": {},
   "source": [
    "This helps understand the data at a glance when there are too many numbers to process, but we lose sight of what the colors mean. We can add a reference bar with `plt.colorbar()`:"
   ]
  },
  {
   "cell_type": "code",
   "execution_count": 202,
   "metadata": {},
   "outputs": [
    {
     "data": {
      "image/png": "[encoded data removed]",
      "text/plain": [
       "<Figure size 480x480 with 2 Axes>"
      ]
     },
     "metadata": {},
     "output_type": "display_data"
    }
   ],
   "source": [
    "plt.matshow(W)\n",
    "plt.colorbar()\n",
    "plt.title(\"Adding a Color Bar\")\n",
    "plt.show()"
   ]
  },
  {
   "cell_type": "markdown",
   "metadata": {},
   "source": [
    "By default, PyPlot uses a *color map* to display the lowest value as dark blue and the highest as bright yellow. This helps us to identify different values. If we prefer grayscale, we can specify the color map:"
   ]
  },
  {
   "cell_type": "code",
   "execution_count": 203,
   "metadata": {},
   "outputs": [
    {
     "data": {
      "image/png": "[encoded data removed]",
      "text/plain": [
       "<Figure size 480x480 with 2 Axes>"
      ]
     },
     "metadata": {},
     "output_type": "display_data"
    }
   ],
   "source": [
    "plt.matshow(W, cmap=\"gray\")\n",
    "plt.colorbar()\n",
    "plt.title(\"Grayscale Now\")\n",
    "plt.show()"
   ]
  },
  {
   "cell_type": "markdown",
   "metadata": {},
   "source": [
    "There are [many colormaps](https://matplotlib.org/stable/tutorials/colors/colormaps.html) defined in PyPlot, and with enough effort you can even design your own."
   ]
  },
  {
   "cell_type": "markdown",
   "metadata": {},
   "source": [
    "#### Exercise 13\n",
    "\n",
    "1. Create a 12-by-12 matrix, and fill each row by normal noise, scaled by the row number.\n",
    "2. Display the matrix with `plt.matshow()` and `plt.colorbar()`."
   ]
  },
  {
   "cell_type": "code",
   "execution_count": 268,
   "metadata": {},
   "outputs": [
    {
     "data": {
      "image/png": "[encoded data removed]",
      "text/plain": [
       "<Figure size 480x480 with 2 Axes>"
      ]
     },
     "metadata": {},
     "output_type": "display_data"
    }
   ],
   "source": [
    "matrix = np.ones(shape=(12,12))\n",
    "# print(\"matrix:\\n\", matrix, \"\\n\")\n",
    "for i in range(12):\n",
    "#     print(\"iteration: \", i, \"\\n\")\n",
    "    random = rng.normal(scale=i+1, size = matrix.shape[1])\n",
    "#     print(\"random num: \\n\", random, \"\\n\")\n",
    "    matrix[i,:] *= random\n",
    "    \n",
    "# print(\"new matrix:\\n\", matrix)\n",
    "plt.matshow(matrix, cmap=\"gray\")\n",
    "plt.colorbar()\n",
    "plt.title(\"Exercise 13\")\n",
    "plt.show()\n"
   ]
  },
  {
   "cell_type": "markdown",
   "metadata": {},
   "source": [
    "## 3 Pandas\n",
    "\n",
    "### 3.1 DataFrames\n",
    "\n",
    "Pandas is the go-to library for working with tabular data (think Excel sheets, or Google Sheets). Its basic data structure is the `DataFrame`:"
   ]
  },
  {
   "cell_type": "code",
   "execution_count": 269,
   "metadata": {},
   "outputs": [
    {
     "data": {
      "text/html": [
       "<div>\n",
       "<style scoped>\n",
       "    .dataframe tbody tr th:only-of-type {\n",
       "        vertical-align: middle;\n",
       "    }\n",
       "\n",
       "    .dataframe tbody tr th {\n",
       "        vertical-align: top;\n",
       "    }\n",
       "\n",
       "    .dataframe thead th {\n",
       "        text-align: right;\n",
       "    }\n",
       "</style>\n",
       "<table border=\"1\" class=\"dataframe\">\n",
       "  <thead>\n",
       "    <tr style=\"text-align: right;\">\n",
       "      <th></th>\n",
       "      <th>given_name</th>\n",
       "      <th>family_name</th>\n",
       "      <th>lab</th>\n",
       "    </tr>\n",
       "  </thead>\n",
       "  <tbody>\n",
       "    <tr>\n",
       "      <th>0</th>\n",
       "      <td>Marc</td>\n",
       "      <td>Fraile</td>\n",
       "      <td>1</td>\n",
       "    </tr>\n",
       "    <tr>\n",
       "      <th>1</th>\n",
       "      <td>Alessio</td>\n",
       "      <td>Galatolo</td>\n",
       "      <td>2</td>\n",
       "    </tr>\n",
       "    <tr>\n",
       "      <th>2</th>\n",
       "      <td>Lux</td>\n",
       "      <td>Miranda</td>\n",
       "      <td>3</td>\n",
       "    </tr>\n",
       "  </tbody>\n",
       "</table>\n",
       "</div>"
      ],
      "text/plain": [
       "  given_name family_name  lab\n",
       "0       Marc      Fraile    1\n",
       "1    Alessio    Galatolo    2\n",
       "2        Lux     Miranda    3"
      ]
     },
     "execution_count": 269,
     "metadata": {},
     "output_type": "execute_result"
    }
   ],
   "source": [
    "teaching_assistants = pd.DataFrame({\n",
    "    \"given_name\"  : [ \"Marc\"  , \"Alessio\" , \"Lux\"    , ],\n",
    "    \"family_name\" : [ \"Fraile\", \"Galatolo\", \"Miranda\", ],\n",
    "    \"lab\"         : [ 1       , 2         , 3        , ],\n",
    "})\n",
    "\n",
    "teaching_assistants"
   ]
  },
  {
   "cell_type": "markdown",
   "metadata": {},
   "source": [
    "In the above example, you can see each column is a named variable, and each row is a numbered entry. We can get a column indexing by name:"
   ]
  },
  {
   "cell_type": "code",
   "execution_count": 270,
   "metadata": {},
   "outputs": [
    {
     "data": {
      "text/plain": [
       "0       Marc\n",
       "1    Alessio\n",
       "2        Lux\n",
       "Name: given_name, dtype: object"
      ]
     },
     "execution_count": 270,
     "metadata": {},
     "output_type": "execute_result"
    }
   ],
   "source": [
    "teaching_assistants[\"given_name\"]"
   ]
  },
  {
   "cell_type": "markdown",
   "metadata": {},
   "source": [
    "Note that a single column is printed in a different style as a multi-column `DataFrame`. Single columns have their own type called `Series`. These two classes behave slightly differently."
   ]
  },
  {
   "cell_type": "code",
   "execution_count": 271,
   "metadata": {},
   "outputs": [
    {
     "data": {
      "text/plain": [
       "pandas.core.series.Series"
      ]
     },
     "execution_count": 271,
     "metadata": {},
     "output_type": "execute_result"
    }
   ],
   "source": [
    "type(teaching_assistants[\"given_name\"])"
   ]
  },
  {
   "cell_type": "markdown",
   "metadata": {},
   "source": [
    "We can also choose *several* columns by indexing with a list:"
   ]
  },
  {
   "cell_type": "code",
   "execution_count": 272,
   "metadata": {},
   "outputs": [
    {
     "data": {
      "text/html": [
       "<div>\n",
       "<style scoped>\n",
       "    .dataframe tbody tr th:only-of-type {\n",
       "        vertical-align: middle;\n",
       "    }\n",
       "\n",
       "    .dataframe tbody tr th {\n",
       "        vertical-align: top;\n",
       "    }\n",
       "\n",
       "    .dataframe thead th {\n",
       "        text-align: right;\n",
       "    }\n",
       "</style>\n",
       "<table border=\"1\" class=\"dataframe\">\n",
       "  <thead>\n",
       "    <tr style=\"text-align: right;\">\n",
       "      <th></th>\n",
       "      <th>family_name</th>\n",
       "      <th>given_name</th>\n",
       "    </tr>\n",
       "  </thead>\n",
       "  <tbody>\n",
       "    <tr>\n",
       "      <th>0</th>\n",
       "      <td>Fraile</td>\n",
       "      <td>Marc</td>\n",
       "    </tr>\n",
       "    <tr>\n",
       "      <th>1</th>\n",
       "      <td>Galatolo</td>\n",
       "      <td>Alessio</td>\n",
       "    </tr>\n",
       "    <tr>\n",
       "      <th>2</th>\n",
       "      <td>Miranda</td>\n",
       "      <td>Lux</td>\n",
       "    </tr>\n",
       "  </tbody>\n",
       "</table>\n",
       "</div>"
      ],
      "text/plain": [
       "  family_name given_name\n",
       "0      Fraile       Marc\n",
       "1    Galatolo    Alessio\n",
       "2     Miranda        Lux"
      ]
     },
     "execution_count": 272,
     "metadata": {},
     "output_type": "execute_result"
    }
   ],
   "source": [
    "teaching_assistants[[ \"family_name\", \"given_name\" ]]"
   ]
  },
  {
   "cell_type": "markdown",
   "metadata": {},
   "source": [
    "Note that we can reorder the columns by indexing in a specific order."
   ]
  },
  {
   "cell_type": "markdown",
   "metadata": {},
   "source": [
    "To get specific rows, you will need to use the *indexing helpers* `loc` and `iloc`. We can use slice notation to get a few rows:"
   ]
  },
  {
   "cell_type": "code",
   "execution_count": 273,
   "metadata": {},
   "outputs": [
    {
     "data": {
      "text/html": [
       "<div>\n",
       "<style scoped>\n",
       "    .dataframe tbody tr th:only-of-type {\n",
       "        vertical-align: middle;\n",
       "    }\n",
       "\n",
       "    .dataframe tbody tr th {\n",
       "        vertical-align: top;\n",
       "    }\n",
       "\n",
       "    .dataframe thead th {\n",
       "        text-align: right;\n",
       "    }\n",
       "</style>\n",
       "<table border=\"1\" class=\"dataframe\">\n",
       "  <thead>\n",
       "    <tr style=\"text-align: right;\">\n",
       "      <th></th>\n",
       "      <th>given_name</th>\n",
       "      <th>family_name</th>\n",
       "      <th>lab</th>\n",
       "    </tr>\n",
       "  </thead>\n",
       "  <tbody>\n",
       "    <tr>\n",
       "      <th>1</th>\n",
       "      <td>Alessio</td>\n",
       "      <td>Galatolo</td>\n",
       "      <td>2</td>\n",
       "    </tr>\n",
       "    <tr>\n",
       "      <th>2</th>\n",
       "      <td>Lux</td>\n",
       "      <td>Miranda</td>\n",
       "      <td>3</td>\n",
       "    </tr>\n",
       "  </tbody>\n",
       "</table>\n",
       "</div>"
      ],
      "text/plain": [
       "  given_name family_name  lab\n",
       "1    Alessio    Galatolo    2\n",
       "2        Lux     Miranda    3"
      ]
     },
     "execution_count": 273,
     "metadata": {},
     "output_type": "execute_result"
    }
   ],
   "source": [
    "teaching_assistants.loc[1:2]"
   ]
  },
  {
   "cell_type": "markdown",
   "metadata": {},
   "source": [
    "*__Note:__ Unlike standard Python and NumPy, `loc` includes the end of the slice (2 in this case).*\n",
    "\n",
    "Or we can go more precise: specify both rows and columns."
   ]
  },
  {
   "cell_type": "code",
   "execution_count": 274,
   "metadata": {},
   "outputs": [
    {
     "data": {
      "text/html": [
       "<div>\n",
       "<style scoped>\n",
       "    .dataframe tbody tr th:only-of-type {\n",
       "        vertical-align: middle;\n",
       "    }\n",
       "\n",
       "    .dataframe tbody tr th {\n",
       "        vertical-align: top;\n",
       "    }\n",
       "\n",
       "    .dataframe thead th {\n",
       "        text-align: right;\n",
       "    }\n",
       "</style>\n",
       "<table border=\"1\" class=\"dataframe\">\n",
       "  <thead>\n",
       "    <tr style=\"text-align: right;\">\n",
       "      <th></th>\n",
       "      <th>given_name</th>\n",
       "      <th>lab</th>\n",
       "    </tr>\n",
       "  </thead>\n",
       "  <tbody>\n",
       "    <tr>\n",
       "      <th>1</th>\n",
       "      <td>Alessio</td>\n",
       "      <td>2</td>\n",
       "    </tr>\n",
       "    <tr>\n",
       "      <th>2</th>\n",
       "      <td>Lux</td>\n",
       "      <td>3</td>\n",
       "    </tr>\n",
       "  </tbody>\n",
       "</table>\n",
       "</div>"
      ],
      "text/plain": [
       "  given_name  lab\n",
       "1    Alessio    2\n",
       "2        Lux    3"
      ]
     },
     "execution_count": 274,
     "metadata": {},
     "output_type": "execute_result"
    }
   ],
   "source": [
    "teaching_assistants.loc[1:2, [ \"given_name\", \"lab\" ]]"
   ]
  },
  {
   "cell_type": "markdown",
   "metadata": {},
   "source": [
    "While `loc` respects the type of the rows and columns (e.g., indexing by name), `iloc` indexes by position."
   ]
  },
  {
   "cell_type": "code",
   "execution_count": 275,
   "metadata": {},
   "outputs": [
    {
     "data": {
      "text/html": [
       "<div>\n",
       "<style scoped>\n",
       "    .dataframe tbody tr th:only-of-type {\n",
       "        vertical-align: middle;\n",
       "    }\n",
       "\n",
       "    .dataframe tbody tr th {\n",
       "        vertical-align: top;\n",
       "    }\n",
       "\n",
       "    .dataframe thead th {\n",
       "        text-align: right;\n",
       "    }\n",
       "</style>\n",
       "<table border=\"1\" class=\"dataframe\">\n",
       "  <thead>\n",
       "    <tr style=\"text-align: right;\">\n",
       "      <th></th>\n",
       "      <th>given_name</th>\n",
       "      <th>lab</th>\n",
       "    </tr>\n",
       "  </thead>\n",
       "  <tbody>\n",
       "    <tr>\n",
       "      <th>1</th>\n",
       "      <td>Alessio</td>\n",
       "      <td>2</td>\n",
       "    </tr>\n",
       "    <tr>\n",
       "      <th>2</th>\n",
       "      <td>Lux</td>\n",
       "      <td>3</td>\n",
       "    </tr>\n",
       "  </tbody>\n",
       "</table>\n",
       "</div>"
      ],
      "text/plain": [
       "  given_name  lab\n",
       "1    Alessio    2\n",
       "2        Lux    3"
      ]
     },
     "execution_count": 275,
     "metadata": {},
     "output_type": "execute_result"
    }
   ],
   "source": [
    "teaching_assistants.iloc[1:3, [0, 2]]"
   ]
  },
  {
   "cell_type": "markdown",
   "metadata": {},
   "source": [
    "*__Note:__ Unlike its sibling `loc`, the accessor `iloc` follows the Python / NumPy standard way of indexing, so we have to write `1:3` (3 not included).*"
   ]
  },
  {
   "cell_type": "markdown",
   "metadata": {},
   "source": [
    "We can retrieve the column names, and the index (row keys), as fields in the dataframe:"
   ]
  },
  {
   "cell_type": "code",
   "execution_count": 276,
   "metadata": {},
   "outputs": [
    {
     "name": "stdout",
     "output_type": "stream",
     "text": [
      "Index(['given_name', 'family_name', 'lab'], dtype='object')\n",
      "RangeIndex(start=0, stop=3, step=1)\n"
     ]
    }
   ],
   "source": [
    "print(teaching_assistants.columns)\n",
    "print(teaching_assistants.index)"
   ]
  },
  {
   "cell_type": "markdown",
   "metadata": {},
   "source": [
    "So far, we worked with the default numerical index. But we can also set one of the columns as the new index:"
   ]
  },
  {
   "cell_type": "code",
   "execution_count": 277,
   "metadata": {},
   "outputs": [
    {
     "data": {
      "text/html": [
       "<div>\n",
       "<style scoped>\n",
       "    .dataframe tbody tr th:only-of-type {\n",
       "        vertical-align: middle;\n",
       "    }\n",
       "\n",
       "    .dataframe tbody tr th {\n",
       "        vertical-align: top;\n",
       "    }\n",
       "\n",
       "    .dataframe thead th {\n",
       "        text-align: right;\n",
       "    }\n",
       "</style>\n",
       "<table border=\"1\" class=\"dataframe\">\n",
       "  <thead>\n",
       "    <tr style=\"text-align: right;\">\n",
       "      <th></th>\n",
       "      <th>family_name</th>\n",
       "      <th>lab</th>\n",
       "    </tr>\n",
       "    <tr>\n",
       "      <th>given_name</th>\n",
       "      <th></th>\n",
       "      <th></th>\n",
       "    </tr>\n",
       "  </thead>\n",
       "  <tbody>\n",
       "    <tr>\n",
       "      <th>Marc</th>\n",
       "      <td>Fraile</td>\n",
       "      <td>1</td>\n",
       "    </tr>\n",
       "    <tr>\n",
       "      <th>Alessio</th>\n",
       "      <td>Galatolo</td>\n",
       "      <td>2</td>\n",
       "    </tr>\n",
       "    <tr>\n",
       "      <th>Lux</th>\n",
       "      <td>Miranda</td>\n",
       "      <td>3</td>\n",
       "    </tr>\n",
       "  </tbody>\n",
       "</table>\n",
       "</div>"
      ],
      "text/plain": [
       "           family_name  lab\n",
       "given_name                 \n",
       "Marc            Fraile    1\n",
       "Alessio       Galatolo    2\n",
       "Lux            Miranda    3"
      ]
     },
     "execution_count": 277,
     "metadata": {},
     "output_type": "execute_result"
    }
   ],
   "source": [
    "teaching_assistants = teaching_assistants.set_index(\"given_name\")\n",
    "teaching_assistants"
   ]
  },
  {
   "cell_type": "code",
   "execution_count": 278,
   "metadata": {},
   "outputs": [
    {
     "data": {
      "text/plain": [
       "Index(['Marc', 'Alessio', 'Lux'], dtype='object', name='given_name')"
      ]
     },
     "execution_count": 278,
     "metadata": {},
     "output_type": "execute_result"
    }
   ],
   "source": [
    "teaching_assistants.index"
   ]
  },
  {
   "cell_type": "markdown",
   "metadata": {},
   "source": [
    "Now `loc` takes strings for the first value as well, while `iloc` still takes numbers:"
   ]
  },
  {
   "cell_type": "code",
   "execution_count": 279,
   "metadata": {},
   "outputs": [
    {
     "data": {
      "text/plain": [
       "given_name\n",
       "Lux         Miranda\n",
       "Alessio    Galatolo\n",
       "Name: family_name, dtype: object"
      ]
     },
     "execution_count": 279,
     "metadata": {},
     "output_type": "execute_result"
    }
   ],
   "source": [
    "teaching_assistants.loc[[ \"Lux\", \"Alessio\" ], \"family_name\"]"
   ]
  },
  {
   "cell_type": "code",
   "execution_count": 280,
   "metadata": {},
   "outputs": [
    {
     "data": {
      "text/plain": [
       "given_name\n",
       "Lux         Miranda\n",
       "Alessio    Galatolo\n",
       "Name: family_name, dtype: object"
      ]
     },
     "execution_count": 280,
     "metadata": {},
     "output_type": "execute_result"
    }
   ],
   "source": [
    "teaching_assistants.iloc[[2, 1], 0]"
   ]
  },
  {
   "cell_type": "markdown",
   "metadata": {},
   "source": [
    "#### Exercise 14\n",
    "\n",
    "1. Make a dataframe called `animals`, with columns `[ \"name\", \"legs\", \"flies\" ]`, and rows corresponding to dog, pidgeon, spider, fly. `name` should be a string, `legs` an integer, and `flies` a boolean.\n",
    "2. Set `name` as the index of the dataframe.\n",
    "3. Use `loc` to access the number of legs for every animal after pidgeon.\n",
    "4. Use `iloc` to access the same data."
   ]
  },
  {
   "cell_type": "code",
   "execution_count": 332,
   "metadata": {},
   "outputs": [
    {
     "name": "stdout",
     "output_type": "stream",
     "text": [
      "loc:\n",
      "2    8\n",
      "3    6\n",
      "Name: legs, dtype: object\n",
      "\n",
      "iloc:\n",
      "2    8\n",
      "3    6\n",
      "Name: legs, dtype: object\n"
     ]
    }
   ],
   "source": [
    "# Your code here\n",
    "animals = pd.DataFrame({\n",
    "    \"name\"  : [ \"dog\"  , \"pidgeon\" , \"spider\"    , \"fly\"  ],\n",
    "    \"legs\" : [ \"4\", \"2\", \"8\", \"6\"],\n",
    "    \"flies\"         : [ False       , True        , False        , True ],\n",
    "})\n",
    "animals.set_index(\"name\")\n",
    "print(\"loc:\")\n",
    "print(animals.loc[[2,3],\"legs\"])\n",
    "print(\"\")\n",
    "\n",
    "print(\"iloc:\")\n",
    "print(animals.iloc[[2,3], 1])"
   ]
  },
  {
   "cell_type": "markdown",
   "metadata": {},
   "source": [
    "### 3.2 Reading CSV\n",
    "\n",
    "It's time to use some bigger examples, with data that has already been collected. A very common format are CSV files: literally, *Comma-Separated Values*. These are text files with extension `.csv`, and contain tabular data as one line per row, separating columns with commas.\n",
    "\n",
    "The companion file `country_codes.csv` is a table mapping every country's name to its ISO 3166 alpha-2 code (the international standard for 2-letter country codes). First, we can inspect the head of the file to get a feeling for the format:"
   ]
  },
  {
   "cell_type": "code",
   "execution_count": 333,
   "metadata": {},
   "outputs": [
    {
     "name": "stdout",
     "output_type": "stream",
     "text": [
      "[0] Name,Code\n",
      "[1] Afghanistan,AF\n",
      "[2] Åland Islands,AX\n",
      "[3] Albania,AL\n",
      "[4] Algeria,DZ\n",
      "[5] American Samoa,AS\n",
      "[6] Andorra,AD\n",
      "[7] Angola,AO\n",
      "[8] Anguilla,AI\n",
      "[9] Antarctica,AQ\n"
     ]
    }
   ],
   "source": [
    "with open(\"country_codes.csv\", \"r\") as file:\n",
    "    lines = file.readlines()\n",
    "\n",
    "for i in range(10):\n",
    "    print(f\"[{i}] {lines[i].strip()}\")"
   ]
  },
  {
   "cell_type": "markdown",
   "metadata": {},
   "source": [
    "The first line contains the column names, and every subsequent line contains a row. We can see further down that the CSV format gets messy if a column contains text with commas:"
   ]
  },
  {
   "cell_type": "code",
   "execution_count": 334,
   "metadata": {},
   "outputs": [
    {
     "name": "stdout",
     "output_type": "stream",
     "text": [
      "[26] Bhutan,BT\n",
      "[27] \"Bolivia, Plurinational State of\",BO\n",
      "[28] \"Bonaire, Sint Eustatius and Saba\",BQ\n",
      "[29] Bosnia and Herzegovina,BA\n"
     ]
    }
   ],
   "source": [
    "for i in range(26, 30):\n",
    "    print(f\"[{i}] {lines[i].strip()}\")"
   ]
  },
  {
   "cell_type": "markdown",
   "metadata": {},
   "source": [
    "Not to worry! Pandas handles everything with `pd.read_csv()`."
   ]
  },
  {
   "cell_type": "code",
   "execution_count": 86,
   "metadata": {},
   "outputs": [
    {
     "data": {
      "text/html": [
       "<div>\n",
       "<style scoped>\n",
       "    .dataframe tbody tr th:only-of-type {\n",
       "        vertical-align: middle;\n",
       "    }\n",
       "\n",
       "    .dataframe tbody tr th {\n",
       "        vertical-align: top;\n",
       "    }\n",
       "\n",
       "    .dataframe thead th {\n",
       "        text-align: right;\n",
       "    }\n",
       "</style>\n",
       "<table border=\"1\" class=\"dataframe\">\n",
       "  <thead>\n",
       "    <tr style=\"text-align: right;\">\n",
       "      <th></th>\n",
       "      <th>Name</th>\n",
       "      <th>Code</th>\n",
       "    </tr>\n",
       "  </thead>\n",
       "  <tbody>\n",
       "    <tr>\n",
       "      <th>0</th>\n",
       "      <td>Afghanistan</td>\n",
       "      <td>AF</td>\n",
       "    </tr>\n",
       "    <tr>\n",
       "      <th>1</th>\n",
       "      <td>Åland Islands</td>\n",
       "      <td>AX</td>\n",
       "    </tr>\n",
       "    <tr>\n",
       "      <th>2</th>\n",
       "      <td>Albania</td>\n",
       "      <td>AL</td>\n",
       "    </tr>\n",
       "    <tr>\n",
       "      <th>3</th>\n",
       "      <td>Algeria</td>\n",
       "      <td>DZ</td>\n",
       "    </tr>\n",
       "    <tr>\n",
       "      <th>4</th>\n",
       "      <td>American Samoa</td>\n",
       "      <td>AS</td>\n",
       "    </tr>\n",
       "    <tr>\n",
       "      <th>...</th>\n",
       "      <td>...</td>\n",
       "      <td>...</td>\n",
       "    </tr>\n",
       "    <tr>\n",
       "      <th>244</th>\n",
       "      <td>Wallis and Futuna</td>\n",
       "      <td>WF</td>\n",
       "    </tr>\n",
       "    <tr>\n",
       "      <th>245</th>\n",
       "      <td>Western Sahara</td>\n",
       "      <td>EH</td>\n",
       "    </tr>\n",
       "    <tr>\n",
       "      <th>246</th>\n",
       "      <td>Yemen</td>\n",
       "      <td>YE</td>\n",
       "    </tr>\n",
       "    <tr>\n",
       "      <th>247</th>\n",
       "      <td>Zambia</td>\n",
       "      <td>ZM</td>\n",
       "    </tr>\n",
       "    <tr>\n",
       "      <th>248</th>\n",
       "      <td>Zimbabwe</td>\n",
       "      <td>ZW</td>\n",
       "    </tr>\n",
       "  </tbody>\n",
       "</table>\n",
       "<p>249 rows × 2 columns</p>\n",
       "</div>"
      ],
      "text/plain": [
       "                  Name Code\n",
       "0          Afghanistan   AF\n",
       "1        Åland Islands   AX\n",
       "2              Albania   AL\n",
       "3              Algeria   DZ\n",
       "4       American Samoa   AS\n",
       "..                 ...  ...\n",
       "244  Wallis and Futuna   WF\n",
       "245     Western Sahara   EH\n",
       "246              Yemen   YE\n",
       "247             Zambia   ZM\n",
       "248           Zimbabwe   ZW\n",
       "\n",
       "[249 rows x 2 columns]"
      ]
     },
     "execution_count": 86,
     "metadata": {},
     "output_type": "execute_result"
    }
   ],
   "source": [
    "countries = pd.read_csv(\"country_codes.csv\")\n",
    "countries"
   ]
  },
  {
   "cell_type": "markdown",
   "metadata": {},
   "source": [
    "Pandas is smart enough to avoid printing the whole 249 rows. If we want more control over seeing the first few entries, we can use the method `head()`:"
   ]
  },
  {
   "cell_type": "code",
   "execution_count": 336,
   "metadata": {},
   "outputs": [
    {
     "data": {
      "text/html": [
       "<div>\n",
       "<style scoped>\n",
       "    .dataframe tbody tr th:only-of-type {\n",
       "        vertical-align: middle;\n",
       "    }\n",
       "\n",
       "    .dataframe tbody tr th {\n",
       "        vertical-align: top;\n",
       "    }\n",
       "\n",
       "    .dataframe thead th {\n",
       "        text-align: right;\n",
       "    }\n",
       "</style>\n",
       "<table border=\"1\" class=\"dataframe\">\n",
       "  <thead>\n",
       "    <tr style=\"text-align: right;\">\n",
       "      <th></th>\n",
       "      <th>Name</th>\n",
       "      <th>Code</th>\n",
       "    </tr>\n",
       "  </thead>\n",
       "  <tbody>\n",
       "    <tr>\n",
       "      <th>0</th>\n",
       "      <td>Afghanistan</td>\n",
       "      <td>AF</td>\n",
       "    </tr>\n",
       "    <tr>\n",
       "      <th>1</th>\n",
       "      <td>Åland Islands</td>\n",
       "      <td>AX</td>\n",
       "    </tr>\n",
       "    <tr>\n",
       "      <th>2</th>\n",
       "      <td>Albania</td>\n",
       "      <td>AL</td>\n",
       "    </tr>\n",
       "    <tr>\n",
       "      <th>3</th>\n",
       "      <td>Algeria</td>\n",
       "      <td>DZ</td>\n",
       "    </tr>\n",
       "    <tr>\n",
       "      <th>4</th>\n",
       "      <td>American Samoa</td>\n",
       "      <td>AS</td>\n",
       "    </tr>\n",
       "    <tr>\n",
       "      <th>5</th>\n",
       "      <td>Andorra</td>\n",
       "      <td>AD</td>\n",
       "    </tr>\n",
       "    <tr>\n",
       "      <th>6</th>\n",
       "      <td>Angola</td>\n",
       "      <td>AO</td>\n",
       "    </tr>\n",
       "    <tr>\n",
       "      <th>7</th>\n",
       "      <td>Anguilla</td>\n",
       "      <td>AI</td>\n",
       "    </tr>\n",
       "    <tr>\n",
       "      <th>8</th>\n",
       "      <td>Antarctica</td>\n",
       "      <td>AQ</td>\n",
       "    </tr>\n",
       "    <tr>\n",
       "      <th>9</th>\n",
       "      <td>Antigua and Barbuda</td>\n",
       "      <td>AG</td>\n",
       "    </tr>\n",
       "  </tbody>\n",
       "</table>\n",
       "</div>"
      ],
      "text/plain": [
       "                  Name Code\n",
       "0          Afghanistan   AF\n",
       "1        Åland Islands   AX\n",
       "2              Albania   AL\n",
       "3              Algeria   DZ\n",
       "4       American Samoa   AS\n",
       "5              Andorra   AD\n",
       "6               Angola   AO\n",
       "7             Anguilla   AI\n",
       "8           Antarctica   AQ\n",
       "9  Antigua and Barbuda   AG"
      ]
     },
     "execution_count": 336,
     "metadata": {},
     "output_type": "execute_result"
    }
   ],
   "source": [
    "countries.head(10)"
   ]
  },
  {
   "cell_type": "markdown",
   "metadata": {},
   "source": [
    "This matches more closely what we saw when exploring the raw file. We can also see that Pandas has correctly used the first line as the column names, and has created a numerical index."
   ]
  },
  {
   "cell_type": "markdown",
   "metadata": {},
   "source": [
    "#### Exercise 15\n",
    "\n",
    "1. Use `set_index()` to create a copy of `countries` that uses the column `Name` as the index. Assign the new copy to a variable called `by_name`.\n",
    "2. Use `loc` to get Sweden's country code."
   ]
  },
  {
   "cell_type": "code",
   "execution_count": 349,
   "metadata": {},
   "outputs": [
    {
     "name": "stdout",
     "output_type": "stream",
     "text": [
      "Code    SE\n",
      "Name: Sweden, dtype: object\n"
     ]
    }
   ],
   "source": [
    "# Your code here\n",
    "bynames = countries.set_index(\"Name\")\n",
    "print(bynames.loc[\"Sweden\"])"
   ]
  },
  {
   "cell_type": "markdown",
   "metadata": {},
   "source": [
    "### 3.3 Logical Indexing\n",
    "\n",
    "Just like NumPy, Pandas can use comparisons to index into an array. For example, if we want to get Sweden's code without changing the index:"
   ]
  },
  {
   "cell_type": "code",
   "execution_count": 350,
   "metadata": {},
   "outputs": [
    {
     "data": {
      "text/html": [
       "<div>\n",
       "<style scoped>\n",
       "    .dataframe tbody tr th:only-of-type {\n",
       "        vertical-align: middle;\n",
       "    }\n",
       "\n",
       "    .dataframe tbody tr th {\n",
       "        vertical-align: top;\n",
       "    }\n",
       "\n",
       "    .dataframe thead th {\n",
       "        text-align: right;\n",
       "    }\n",
       "</style>\n",
       "<table border=\"1\" class=\"dataframe\">\n",
       "  <thead>\n",
       "    <tr style=\"text-align: right;\">\n",
       "      <th></th>\n",
       "      <th>Name</th>\n",
       "      <th>Code</th>\n",
       "    </tr>\n",
       "  </thead>\n",
       "  <tbody>\n",
       "    <tr>\n",
       "      <th>214</th>\n",
       "      <td>Sweden</td>\n",
       "      <td>SE</td>\n",
       "    </tr>\n",
       "  </tbody>\n",
       "</table>\n",
       "</div>"
      ],
      "text/plain": [
       "       Name Code\n",
       "214  Sweden   SE"
      ]
     },
     "execution_count": 350,
     "metadata": {},
     "output_type": "execute_result"
    }
   ],
   "source": [
    "countries[countries[\"Name\"] == \"Sweden\"]"
   ]
  },
  {
   "cell_type": "markdown",
   "metadata": {},
   "source": [
    "Columns containing string values have a field called `str` that allows us to perform string operations on each entry. For example, we can use `startswith()` to check which entries start with a certain letter."
   ]
  },
  {
   "cell_type": "code",
   "execution_count": 351,
   "metadata": {},
   "outputs": [
    {
     "data": {
      "text/plain": [
       "Name\n",
       "False    241\n",
       "True       8\n",
       "Name: count, dtype: int64"
      ]
     },
     "execution_count": 351,
     "metadata": {},
     "output_type": "execute_result"
    }
   ],
   "source": [
    "index = countries[\"Name\"].str.startswith(\"U\")\n",
    "# List all unique values in a Series, and how many times they appear.\n",
    "index.value_counts()"
   ]
  },
  {
   "cell_type": "code",
   "execution_count": 352,
   "metadata": {
    "scrolled": true
   },
   "outputs": [
    {
     "data": {
      "text/html": [
       "<div>\n",
       "<style scoped>\n",
       "    .dataframe tbody tr th:only-of-type {\n",
       "        vertical-align: middle;\n",
       "    }\n",
       "\n",
       "    .dataframe tbody tr th {\n",
       "        vertical-align: top;\n",
       "    }\n",
       "\n",
       "    .dataframe thead th {\n",
       "        text-align: right;\n",
       "    }\n",
       "</style>\n",
       "<table border=\"1\" class=\"dataframe\">\n",
       "  <thead>\n",
       "    <tr style=\"text-align: right;\">\n",
       "      <th></th>\n",
       "      <th>Name</th>\n",
       "      <th>Code</th>\n",
       "    </tr>\n",
       "  </thead>\n",
       "  <tbody>\n",
       "    <tr>\n",
       "      <th>231</th>\n",
       "      <td>Uganda</td>\n",
       "      <td>UG</td>\n",
       "    </tr>\n",
       "    <tr>\n",
       "      <th>232</th>\n",
       "      <td>Ukraine</td>\n",
       "      <td>UA</td>\n",
       "    </tr>\n",
       "    <tr>\n",
       "      <th>233</th>\n",
       "      <td>United Arab Emirates</td>\n",
       "      <td>AE</td>\n",
       "    </tr>\n",
       "    <tr>\n",
       "      <th>234</th>\n",
       "      <td>United Kingdom</td>\n",
       "      <td>GB</td>\n",
       "    </tr>\n",
       "    <tr>\n",
       "      <th>235</th>\n",
       "      <td>United States</td>\n",
       "      <td>US</td>\n",
       "    </tr>\n",
       "    <tr>\n",
       "      <th>236</th>\n",
       "      <td>United States Minor Outlying Islands</td>\n",
       "      <td>UM</td>\n",
       "    </tr>\n",
       "    <tr>\n",
       "      <th>237</th>\n",
       "      <td>Uruguay</td>\n",
       "      <td>UY</td>\n",
       "    </tr>\n",
       "    <tr>\n",
       "      <th>238</th>\n",
       "      <td>Uzbekistan</td>\n",
       "      <td>UZ</td>\n",
       "    </tr>\n",
       "  </tbody>\n",
       "</table>\n",
       "</div>"
      ],
      "text/plain": [
       "                                     Name Code\n",
       "231                                Uganda   UG\n",
       "232                               Ukraine   UA\n",
       "233                  United Arab Emirates   AE\n",
       "234                        United Kingdom   GB\n",
       "235                         United States   US\n",
       "236  United States Minor Outlying Islands   UM\n",
       "237                               Uruguay   UY\n",
       "238                            Uzbekistan   UZ"
      ]
     },
     "execution_count": 352,
     "metadata": {},
     "output_type": "execute_result"
    }
   ],
   "source": [
    "countries[index]"
   ]
  },
  {
   "cell_type": "markdown",
   "metadata": {},
   "source": [
    "#### Exercise 16\n",
    "\n",
    "Use logical indexing to find all the countries whose first 2 letters (after capitalizing) correspond with their country code.\n",
    "\n",
    "*__Hint:__ If you want to chain string operations, you will have to write `.str` several times.*"
   ]
  },
  {
   "cell_type": "code",
   "execution_count": 88,
   "metadata": {},
   "outputs": [
    {
     "name": "stdout",
     "output_type": "stream",
     "text": [
      "0                            Afghanistan\n",
      "2                                Albania\n",
      "10                             Argentina\n",
      "13                             Australia\n",
      "15                            Azerbaijan\n",
      "21                               Belgium\n",
      "26       Bolivia, Plurinational State of\n",
      "31                                Brazil\n",
      "39                                Canada\n",
      "48                              Colombia\n",
      "56                                  Cuba\n",
      "58                                Cyprus\n",
      "59                        Czech Republic\n",
      "61                              Djibouti\n",
      "63                    Dominican Republic\n",
      "64                               Ecuador\n",
      "65                                 Egypt\n",
      "68                               Eritrea\n",
      "70                              Ethiopia\n",
      "74                               Finland\n",
      "75                                France\n",
      "79                                 Gabon\n",
      "81                               Georgia\n",
      "83                                 Ghana\n",
      "84                             Gibraltar\n",
      "85                                Greece\n",
      "89                                  Guam\n",
      "100                              Hungary\n",
      "102                                India\n",
      "104            Iran, Islamic Republic of\n",
      "109                                Italy\n",
      "112                               Jersey\n",
      "113                               Jordan\n",
      "115                                Kenya\n",
      "116                             Kiribati\n",
      "121     Lao People's Democratic Republic\n",
      "127                        Liechtenstein\n",
      "129                           Luxembourg\n",
      "159                            Nicaragua\n",
      "165                               Norway\n",
      "166                                 Oman\n",
      "170                               Panama\n",
      "173                                 Peru\n",
      "174                          Philippines\n",
      "179                                Qatar\n",
      "181                              Romania\n",
      "182                   Russian Federation\n",
      "183                               Rwanda\n",
      "194                         Saudi Arabia\n",
      "204                              Somalia\n",
      "216                 Syrian Arab Republic\n",
      "220                             Thailand\n",
      "224                                Tonga\n",
      "231                               Uganda\n",
      "238                           Uzbekistan\n",
      "240    Venezuela, Bolivarian Republic of\n",
      "243                 Virgin Islands, U.S.\n",
      "246                                Yemen\n",
      "Name: Name, dtype: object\n"
     ]
    }
   ],
   "source": [
    "countries[\"first_two\"] = countries[\"Name\"].str.upper().str[:2]\n",
    "\n",
    "chosen_countries = countries[countries[\"first_two\"] == countries[\"Code\"]]\n",
    "\n",
    "print(chosen_countries[\"Name\"])\n",
    "# print(countries.head(10))\n"
   ]
  },
  {
   "cell_type": "markdown",
   "metadata": {},
   "source": [
    "### 3.4 Saving CSV\n",
    "\n",
    "We can save a `DataFrame` into a CSV file by using `to_csv()`:"
   ]
  },
  {
   "cell_type": "code",
   "execution_count": 385,
   "metadata": {},
   "outputs": [],
   "source": [
    "teaching_assistants.to_csv(\"teaching_assistants.csv\")"
   ]
  },
  {
   "cell_type": "markdown",
   "metadata": {},
   "source": [
    "#### Exercise 17\n",
    "\n",
    "Save the `animals` dataframe from Exercise 14 to a CSV file called `animals.csv`."
   ]
  },
  {
   "cell_type": "code",
   "execution_count": 386,
   "metadata": {},
   "outputs": [],
   "source": [
    "# Your code here\n",
    "animals.to_csv(\"animals.csv\")"
   ]
  },
  {
   "cell_type": "markdown",
   "metadata": {},
   "source": [
    "#### Exercise 18\n",
    "\n",
    "In this final Pandas example, we will investigate a larger dataset of nominees and winners for the Academy Awards (the Oscars), from the 1920s to the 2010s.\n",
    "\n",
    "1. Use `read_csv()` to load the companion file `oscar_nominations.csv`.\n",
    "2. Use any method you like to inspect the entries in the dataset (*__Hint:__ It's too big to print out, use an aggregate method*).\n",
    "3. Use the `Series` method `unique()` to get a list of the years covered by this dataset.\n",
    "4. Figure out how to use `groupby()` and `count()` to obtain a `Series` mapping each year to the number of entries for that year. Use `plt.plot()` to display this information in a graph.\n",
    "5. Use boolean expressions (comparisons) to obtain the nominees (and winner) for the 2017 best picture award. Display the `entity` and `winner` columns as a separate dataframe."
   ]
  },
  {
   "cell_type": "code",
   "execution_count": 93,
   "metadata": {},
   "outputs": [
    {
     "name": "stdout",
     "output_type": "stream",
     "text": [
      "ten first entries:\n",
      "   year        category  winner                   entity\n",
      "0  1927           ACTOR   False      Richard Barthelmess\n",
      "1  1927           ACTOR    True            Emil Jannings\n",
      "2  1927         ACTRESS   False           Louise Dresser\n",
      "3  1927         ACTRESS    True             Janet Gaynor\n",
      "4  1927         ACTRESS   False           Gloria Swanson\n",
      "5  1927   ART DIRECTION   False            Rochus Gliese\n",
      "6  1927   ART DIRECTION    True  William Cameron Menzies\n",
      "7  1927   ART DIRECTION   False             Harry Oliver\n",
      "8  1927  CINEMATOGRAPHY   False            George Barnes\n",
      "9  1927  CINEMATOGRAPHY    True           Charles Rosher \n",
      "\n",
      "unique years:\n",
      "[1927 1928 1929 1930 1931 1932 1934 1935 1936 1937 1938 1939 1940 1941\n",
      " 1942 1943 1944 1945 1946 1947 1948 1949 1950 1951 1952 1953 1954 1955\n",
      " 1956 1957 1958 1959 1960 1961 1962 1963 1964 1965 1966 1967 1968 1969\n",
      " 1970 1971 1972 1973 1974 1975 1976 1977 1978 1979 1980 1981 1982 1983\n",
      " 1984 1985 1986 1987 1988 1989 1990 1991 1992 1993 1994 1995 1996 1997\n",
      " 1998 1999 2000 2001 2002 2003 2004 2005 2006 2007 2008 2009 2010 2011\n",
      " 2012 2013 2014 2015 2016 2017] \n",
      "\n",
      "2017 nominees:\n",
      "10849                  Arrival\n",
      "10850                   Fences\n",
      "10851            Hacksaw Ridge\n",
      "10852       Hell or High Water\n",
      "10853           Hidden Figures\n",
      "10854               La La Land\n",
      "10855                     Lion\n",
      "10856    Manchester by the Sea\n",
      "10857                Moonlight\n",
      "Name: entity, dtype: object \n",
      "\n",
      "2017 winner\n",
      "10857    Moonlight\n",
      "Name: entity, dtype: object\n"
     ]
    },
    {
     "data": {
      "image/png": "[encoded data removed]",
      "text/plain": [
       "<Figure size 640x480 with 1 Axes>"
      ]
     },
     "metadata": {},
     "output_type": "display_data"
    }
   ],
   "source": [
    "# Your code here\n",
    "\n",
    "#1.\n",
    "oscar_nominations = pd.read_csv(\"oscar_nominations.csv\")\n",
    "\n",
    "#2.\n",
    "print(\"ten first entries:\")\n",
    "print(oscar_nominations.head(10), \"\\n\")\n",
    "\n",
    "years = oscar_nominations[\"year\"]\n",
    "# print(\"years:\")\n",
    "# print(years,\"\\n\")\n",
    "\n",
    "#3.\n",
    "unique_years = years.unique()\n",
    "print(\"unique years:\")\n",
    "print(unique_years,\"\\n\")\n",
    "\n",
    "#4.\n",
    "year_grpd = years.groupby(years).count()\n",
    "# print(year_grpd)\n",
    "# print(\"\\n\")\n",
    "plt.plot(year_grpd)\n",
    "plt.title(\"Exercise 18\")\n",
    "plt.xlabel(\"year\")\n",
    "plt.ylabel(\"oscar nominations\")\n",
    "# \n",
    "\n",
    "#5.\n",
    "# noticed the years were off by a year so used 2016 :D\n",
    "nominees = oscar_nominations[(oscar_nominations[\"year\"] == 2016) & (oscar_nominations[\"category\"] == \"BEST PICTURE\")][\"entity\"]\n",
    "print(\"2017 nominees:\")\n",
    "print(nominees.head(10),\"\\n\")\n",
    "\n",
    "winner = oscar_nominations[(oscar_nominations[\"winner\"]) & (oscar_nominations[\"year\"] == 2016) & (oscar_nominations[\"category\"] == \"BEST PICTURE\")][\"entity\"]\n",
    "print(\"2017 winner\")\n",
    "print(winner)\n",
    "\n"
   ]
  },
  {
   "cell_type": "markdown",
   "metadata": {},
   "source": [
    "#### Bonus Exercise\n",
    "\n",
    "1. Calculate the number of *nominees* per category in the 2017 gala.\n",
    "2. Calculate the number of *winners* per category in the 2017 gala.\n",
    "3. Use `plt.bar()` to display, in a single graph, the number of nominees and winners for each category. Display the category names in the x axis.\n",
    "4. Save the figure you just created as `oscar_categories_2017.png`."
   ]
  },
  {
   "cell_type": "code",
   "execution_count": 65,
   "metadata": {},
   "outputs": [],
   "source": [
    "# Your code here"
   ]
  },
  {
   "cell_type": "code",
   "execution_count": null,
   "metadata": {},
   "outputs": [],
   "source": []
  }
 ],
 "metadata": {
  "kernelspec": {
   "display_name": "Python 3 (ipykernel)",
   "language": "python",
   "name": "python3"
  },
  "language_info": {
   "codemirror_mode": {
    "name": "ipython",
    "version": 3
   },
   "file_extension": ".py",
   "mimetype": "text/x-python",
   "name": "python",
   "nbconvert_exporter": "python",
   "pygments_lexer": "ipython3",
   "version": "3.10.12"
  },
  "vscode": {
   "interpreter": {
    "hash": "f9f85f796d01129d0dd105a088854619f454435301f6ffec2fea96ecbd9be4ac"
   }
  }
 },
 "nbformat": 4,
 "nbformat_minor": 2
}
