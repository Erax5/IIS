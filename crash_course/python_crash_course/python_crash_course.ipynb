{
 "cells": [
  {
   "cell_type": "markdown",
   "metadata": {},
   "source": [
    "# Python Crash Course"
   ]
  },
  {
   "cell_type": "markdown",
   "metadata": {},
   "source": [
    "## 1 Getting Started\n",
    "### 1.1 Essentials\n",
    "\n",
    "This is a [Jupyter Notebook](https://jupyter.org/). It allows us to mix [MarkDown](https://en.wikipedia.org/wiki/Markdown) (formatted text) with [Python](https://www.python.org/) code.\n",
    "\n",
    "You will see that the notebook's contents are separated into *cells*. The cell containing this message is a static MarkDown cell. The next cell is an executable Python cell. Try running it!"
   ]
  },
  {
   "cell_type": "code",
   "execution_count": null,
   "metadata": {},
   "outputs": [],
   "source": [
    "# This cell contains Python code. Press Ctrl+Enter or hit the \"Run\" button on the side to execute it.\n",
    "# You should see an output box appear underneath with the text \"Hello, world!\".\n",
    "print(\"Hello, world!\")"
   ]
  },
  {
   "cell_type": "markdown",
   "metadata": {},
   "source": [
    "Some notes on the Python cell you just executed:\n",
    "* The first line (`# This cell contains...`) is a *comment*: it's there to help us understand the code, but will be ignored by Python. Comment lines start with a pound sign `#`.\n",
    "* The second line calls a *function* named `print`. This function displays text in the output.\n",
    "    * The parentheses contain any information we need to pass to the function. In this case, we pass the text `\"Hello, world!\"`.\n",
    "* In programming, a piece of textual information (like `\"Hello, world!\"` above) is called a *string*. In Python, strings are indicated either by double quotes (`\"`) like we did, or by single quotes (`'`).\n",
    "\n",
    "Jupyter will print the last expression in the cell for us, even if we don't explicitly call `print()`:"
   ]
  },
  {
   "cell_type": "code",
   "execution_count": null,
   "metadata": {},
   "outputs": [],
   "source": [
    "\"A string with some text\"\n",
    "'Another string with different contents'"
   ]
  },
  {
   "cell_type": "markdown",
   "metadata": {},
   "source": [
    "We can write numbers normally, and do arithmetic with them:"
   ]
  },
  {
   "cell_type": "code",
   "execution_count": null,
   "metadata": {},
   "outputs": [],
   "source": [
    "2 + 3 * 4 / (0 + 2)"
   ]
  },
  {
   "cell_type": "markdown",
   "metadata": {},
   "source": [
    "Aside from the basic operations (`+`, `-`, `*`, `/`), Python also offers some more exotic options:\n",
    "* `**` indicates exponentiation.\n",
    "* While `/` is division with decimals, `//` is integer division. \n",
    "* `%` gives the remainder of an integer division."
   ]
  },
  {
   "cell_type": "code",
   "execution_count": null,
   "metadata": {},
   "outputs": [],
   "source": [
    "print(3 ** 2)\n",
    "print(5 / 2)\n",
    "print(5 // 2)\n",
    "print(5 % 2)"
   ]
  },
  {
   "cell_type": "markdown",
   "metadata": {},
   "source": [
    "Python also allows us to use arithmetic operators to manipulate strings:"
   ]
  },
  {
   "cell_type": "code",
   "execution_count": null,
   "metadata": {},
   "outputs": [],
   "source": [
    "(\"Oh, hi \" + \"there! \") * 2"
   ]
  },
  {
   "cell_type": "markdown",
   "metadata": {},
   "source": [
    "We cannot add numbers and strings directly, but we can convert numbers to strings by using the built-in function `str()`:"
   ]
  },
  {
   "cell_type": "code",
   "execution_count": null,
   "metadata": {},
   "outputs": [],
   "source": [
    "# 10 + \"kr\" # Try uncommenting this line (by removing the hash sign), and see what happens when you run the cell.\n",
    "str(10) + \"kr\""
   ]
  },
  {
   "cell_type": "markdown",
   "metadata": {},
   "source": [
    "Aside from strings and numbers, we can also use *boolean* values: `True` and `False`. We can also use the *keywords* `and`, `or` to combine them.\n",
    "\n",
    "**NOTE:** The capitalization is important! `true` or `TRUE` will not be recognized as `True`."
   ]
  },
  {
   "cell_type": "code",
   "execution_count": null,
   "metadata": {},
   "outputs": [],
   "source": [
    "print(True or False)  # True if at least one of them is True.\n",
    "print(True and False) # True if both of them are True."
   ]
  },
  {
   "cell_type": "markdown",
   "metadata": {},
   "source": [
    "#### Exercise 1\n",
    "\n",
    "Convert the boolean value `True` to a string, and add it twice to the end of the string `\"True twice is: \"`."
   ]
  },
  {
   "cell_type": "code",
   "execution_count": null,
   "metadata": {},
   "outputs": [],
   "source": [
    "# Your code here"
   ]
  },
  {
   "cell_type": "markdown",
   "metadata": {},
   "source": [
    "### 1.2 Variables\n",
    "\n",
    "It would be very cumbersome to work if we had to have all our operations in one long line of code. Of course, that's not the case! We can store results in *variables* and re-use them later:"
   ]
  },
  {
   "cell_type": "code",
   "execution_count": null,
   "metadata": {},
   "outputs": [],
   "source": [
    "given_name  = \"Marc\"\n",
    "family_name = \"Fraile\"\n",
    "\n",
    "print(\"Given name:  \" + given_name)\n",
    "print(\"Family name: \" + family_name)"
   ]
  },
  {
   "cell_type": "markdown",
   "metadata": {},
   "source": [
    "We can also reference variables defined in earlier cells:"
   ]
  },
  {
   "cell_type": "code",
   "execution_count": null,
   "metadata": {},
   "outputs": [],
   "source": [
    "western_order = given_name  + \" \" + family_name\n",
    "eastern_order = family_name + \" \" + given_name\n",
    "\n",
    "print(\"Western order: \" + western_order)\n",
    "print(\"Eastern order: \" + eastern_order)"
   ]
  },
  {
   "cell_type": "markdown",
   "metadata": {},
   "source": [
    "The equals sign `=` in the expression `variable = value` is used for *assignment*: it tells us to store the `value` in the `variable`. When we want to check if two things are equal or not, we need the *equality comparison* `==` (two equals signs in a row)."
   ]
  },
  {
   "cell_type": "code",
   "execution_count": null,
   "metadata": {},
   "outputs": [],
   "source": [
    "print(\"hello\" == \"hello\")\n",
    "print(2 + 2 == 5)"
   ]
  },
  {
   "cell_type": "markdown",
   "metadata": {},
   "source": [
    "Sometimes, we want to modify a variable *in-place*: we use the current stored value to do some operation, and then store the result in the same variable. We can do this in one line."
   ]
  },
  {
   "cell_type": "code",
   "execution_count": null,
   "metadata": {},
   "outputs": [],
   "source": [
    "some_num = 3\n",
    "some_num = some_num * 2 # (new stored value) = (old value) * 2\n",
    "some_num"
   ]
  },
  {
   "cell_type": "markdown",
   "metadata": {},
   "source": [
    "Python uses the old stored value during the operation, and stores the new result into the variable."
   ]
  },
  {
   "cell_type": "markdown",
   "metadata": {},
   "source": [
    "For simple arithmetic operators like `+` and `*`, Python provides shortcuts like `+=`, `*=`. E.g., `variable *= value` is the same as `variable = variable * value`."
   ]
  },
  {
   "cell_type": "code",
   "execution_count": null,
   "metadata": {},
   "outputs": [],
   "source": [
    "some_num += 2 # Equivalent to some_num = some_num + 2\n",
    "some_num"
   ]
  },
  {
   "cell_type": "markdown",
   "metadata": {},
   "source": [
    "If you want to know the type of data stored in a variable, you can use the built-in function `type()`:"
   ]
  },
  {
   "cell_type": "code",
   "execution_count": null,
   "metadata": {},
   "outputs": [],
   "source": [
    "a_string   = \"rope\"\n",
    "an_integer = 13\n",
    "a_number   = -7.11\n",
    "a_boolean  = False\n",
    "\n",
    "print(type(a_string  ))\n",
    "print(type(an_integer))\n",
    "print(type(a_number  ))\n",
    "print(type(a_boolean ))"
   ]
  },
  {
   "cell_type": "markdown",
   "metadata": {},
   "source": [
    "Note that Python distinguishes integers (0, 1, 2, -1, -2, ...) from floating-point numbers (numbers with decimals)."
   ]
  },
  {
   "cell_type": "markdown",
   "metadata": {},
   "source": [
    "#### Exercise 2\n",
    "\n",
    "Convert the number 777 to a string, and store the string in a variable called `lucky`. Print the type of `lucky`."
   ]
  },
  {
   "cell_type": "code",
   "execution_count": null,
   "metadata": {},
   "outputs": [],
   "source": [
    "# Your code here"
   ]
  },
  {
   "cell_type": "markdown",
   "metadata": {},
   "source": [
    "### 1.3 More on Strings\n",
    "\n",
    "What if we want to jump to a new line in a string? Or print a mix of single and double quotes? If we just write it normally, it will cause an error in the program! The answer comes in two parts:"
   ]
  },
  {
   "cell_type": "markdown",
   "metadata": {},
   "source": [
    "(1) We can \"escape\" a character with a single backslash: `\\`. This lets Python know that it should treat quotes and other special symbols as part of the string."
   ]
  },
  {
   "cell_type": "code",
   "execution_count": null,
   "metadata": {},
   "outputs": [],
   "source": [
    "# print(\"This string contains 'single quotes' and \"double quotes\"\") # Try uncommenting this and running the cell. What's the problem?\n",
    "print(\"This string contains 'single quotes' and \\\"double quotes\\\"\") # We let Python know to treat some double quotes as part of the string by escaping them."
   ]
  },
  {
   "cell_type": "markdown",
   "metadata": {},
   "source": [
    "(2) Some special characters can be represented with \"escape sequences\", by combining a backslash and a specific letter. The most common are:\n",
    "* `\\n` for newline.\n",
    "* `\\t` for tab."
   ]
  },
  {
   "cell_type": "code",
   "execution_count": null,
   "metadata": {},
   "outputs": [],
   "source": [
    "print(\"You\\nNeed\\n\\tEscape\\tSequences\\n\\t\\tFor\\tThis\")"
   ]
  },
  {
   "cell_type": "markdown",
   "metadata": {},
   "source": [
    "There are more exotic escape sequences. For example, `\\U` followed by 8 hexadecimal digits is substituted with the equivalent Unicode symbol."
   ]
  },
  {
   "cell_type": "code",
   "execution_count": null,
   "metadata": {},
   "outputs": [],
   "source": [
    "print(\"\\U000087D2\\U0001F40D is 蟒🐍\")"
   ]
  },
  {
   "cell_type": "markdown",
   "metadata": {},
   "source": [
    "#### Exercise 3\n",
    "\n",
    "Print the following text:\n",
    "\n",
    "```\n",
    "A 'single quote'\n",
    "Double \"quotes\"\n",
    "A backslash \\\n",
    "```"
   ]
  },
  {
   "cell_type": "code",
   "execution_count": null,
   "metadata": {},
   "outputs": [],
   "source": [
    "# Your code here"
   ]
  },
  {
   "cell_type": "markdown",
   "metadata": {},
   "source": [
    "## 2 Conditionals and Loops\n",
    "\n",
    "### 2.1 Conditionals: if, else, elif\n",
    "\n",
    "With boolean values and expressions, we can have *conditional statements*: pieces of code that only get executed *if* a condition is true. For example:"
   ]
  },
  {
   "cell_type": "code",
   "execution_count": null,
   "metadata": {},
   "outputs": [],
   "source": [
    "if True:\n",
    "    string = \"Print\" + \" \" + \"me!\"\n",
    "    print(string)\n",
    "\n",
    "if 2 == 3:\n",
    "    print(\"Not me!\")"
   ]
  },
  {
   "cell_type": "markdown",
   "metadata": {},
   "source": [
    "If-statements are structured as following:\n",
    "\n",
    "```python\n",
    "if condition:\n",
    "    optional_statement_1\n",
    "    optional_statement_2\n",
    "    ...\n",
    "\n",
    "outside_statement_1\n",
    "...\n",
    "```\n",
    "\n",
    "They start with the keyword `if`, followed by a condition that evaluates to `True` or `False`, followed by a colon (`:`). The next lines are indented, and are only executed if the condition is `True`. The block ends when we go back to the original level of indentation.\n",
    "\n",
    "*__Note:__ Python cares that all the indented elements are nicely aligned! Best practice is to use the tab key once per level of indentation.*"
   ]
  },
  {
   "cell_type": "markdown",
   "metadata": {},
   "source": [
    "We can compose if-statements by increasing the indentation level:"
   ]
  },
  {
   "cell_type": "code",
   "execution_count": null,
   "metadata": {},
   "outputs": [],
   "source": [
    "if 3 > 1:\n",
    "    if 5 > 3:\n",
    "        print(\"1 < 3 < 5\")\n",
    "    if 2 > 3:\n",
    "        print(\"1 < 3 < 2\")"
   ]
  },
  {
   "cell_type": "markdown",
   "metadata": {},
   "source": [
    "If we want to execute *either* some code *or* some other code, we can use `if-else` expressions:"
   ]
  },
  {
   "cell_type": "code",
   "execution_count": null,
   "metadata": {},
   "outputs": [],
   "source": [
    "if 4 % 3 == 0:\n",
    "    print(\"4 is a multiple of 3\")\n",
    "else:\n",
    "    print(\"4 is NOT a multiple of 3\")"
   ]
  },
  {
   "cell_type": "markdown",
   "metadata": {},
   "source": [
    "Finally, we can combine if-else statements in a chain using `elif`:"
   ]
  },
  {
   "cell_type": "code",
   "execution_count": null,
   "metadata": {},
   "outputs": [],
   "source": [
    "# Verbose form using if-else\n",
    "\n",
    "if 4 % 3 == 0:\n",
    "    print(\"4 is a multiple of 3\")\n",
    "else:\n",
    "    if 4 % 2 == 0:\n",
    "        print(\"4 is NOT a multiple of 3, but it is a multiple of 2\")\n",
    "    else:\n",
    "        print(\"4 is NOT a multiple of 2 or 3\")\n",
    "\n",
    "# Compressed form using elif\n",
    "\n",
    "if 4 % 3 == 0:\n",
    "    print(\"4 is a multiple of 3\")\n",
    "elif 4 % 2 == 0:\n",
    "    print(\"4 is NOT a multiple of 3, but it is a multiple of 2\")\n",
    "else:\n",
    "    print(\"4 is NOT a multiple of 2 or 3\")"
   ]
  },
  {
   "cell_type": "markdown",
   "metadata": {},
   "source": [
    "#### Exercise 4\n",
    "\n",
    "Create a variable called `important_value` and fill it with an integer value. Write a conditional statement that prints `Good \\ Morning!` if `important_value` is greater than `3`, and prints `Good \\ Night!` otherwise.\n",
    "\n",
    "*__Hint:__ In either case, a single backlash should appear in the output.*"
   ]
  },
  {
   "cell_type": "code",
   "execution_count": null,
   "metadata": {},
   "outputs": [],
   "source": [
    "# Your code here"
   ]
  },
  {
   "cell_type": "markdown",
   "metadata": {},
   "source": [
    "### 2.2 Basic Loops: for\n",
    "\n",
    "Aside from choosing what code to run with conditional statements, we can also choose how many times a piece of code runs with *loop statements*. In Python, loops use the keyword `for`:"
   ]
  },
  {
   "cell_type": "code",
   "execution_count": null,
   "metadata": {},
   "outputs": [],
   "source": [
    "# Count with me!\n",
    "for i in range(10):\n",
    "    scream = \"A\" * i\n",
    "    print(str(i) + \" \" + scream)"
   ]
  },
  {
   "cell_type": "code",
   "execution_count": null,
   "metadata": {},
   "outputs": [],
   "source": [
    "# Let's try a Greek \"Hello, world!\"\n",
    "for char in \"Γειά σου Κόσμε!\":\n",
    "    print(char)"
   ]
  },
  {
   "cell_type": "markdown",
   "metadata": {},
   "source": [
    "For-statements are similar to if-statements: the first line starts with a keyword (`for`) and ends with a colon (`:`), and the looped lines are indented. The whole structure is\n",
    "\n",
    "```python\n",
    "for variable in iterable:\n",
    "    loop_statement_1\n",
    "    loop_statement_2\n",
    "    ...\n",
    "\n",
    "outside_statement_1\n",
    "...\n",
    "```\n",
    "\n",
    "The `iterable` is something we can loop over. In the examples above we used the built-in `range(n)` function that lets us iterate over the numbers `0, 1, ..., n - 1`; and the string `\"Γειά σου Κόσμε!\"`, which caused us to iterate over its characters. The `variable` is filled with the current iteration value (the current number in `range(n)`, the current letter in `\"Γειά σου Κόσμε!\"`).\n",
    "\n",
    "`range()` has three forms:\n",
    "* `range(stop)` iterates from `0` (included) to `stop` (excluded), adding 1 every step.\n",
    "* `range(start, stop)` iterates from `start` (included) to `stop` (excluded), adding 1 every step.\n",
    "* `range(start, stop, step)` iterates from `start` (included) to `stop` (excluded), adding `step` every step.\n",
    "\n",
    "Conditional statements and loop statements are jointly known as *control structures*. Combining them, we can start to give more interesting examples:"
   ]
  },
  {
   "cell_type": "code",
   "execution_count": null,
   "metadata": {},
   "outputs": [],
   "source": [
    "# Print all multiples of 3 in the range [10, 12, ..., 18]\n",
    "for x in range(10, 20, 2):\n",
    "    if x % 3 == 0:\n",
    "        print(x)"
   ]
  },
  {
   "cell_type": "markdown",
   "metadata": {},
   "source": [
    "#### Exercise 5\n",
    "\n",
    "Write a program that prints all numbers from 1 to 50, with a caveat: multiples of 3 should be substituted by \"Fizz\", and multiples of 5 by \"Buzz\". If a number should be both Fizz and Buzz, then print \"FizzBuzz\".\n",
    "\n",
    "*__Hint:__ The first 15 elements in the sequence are `1, 2, Fizz, 4, Buzz, Fizz, 7, 8, Fizz, Buzz, 11, Fizz, 13, 14, FizzBuzz`.*"
   ]
  },
  {
   "cell_type": "code",
   "execution_count": null,
   "metadata": {},
   "outputs": [],
   "source": [
    "# Your code here"
   ]
  },
  {
   "cell_type": "markdown",
   "metadata": {},
   "source": [
    "### 2.3 Advanced Loops: break, while\n",
    "\n",
    "What if we don't know how long we want to loop for? There are two keywords that can help us: `break` and `while`."
   ]
  },
  {
   "cell_type": "markdown",
   "metadata": {},
   "source": [
    "`break` will end the current loop. Suppose we want to find all integers smaller than the square root of 20. One way to do it is:"
   ]
  },
  {
   "cell_type": "code",
   "execution_count": null,
   "metadata": {},
   "outputs": [],
   "source": [
    "for n in range(1, 20):\n",
    "    if n * n > 20:\n",
    "        break\n",
    "    else:\n",
    "        print(str(n) + \" squared is \" + str(n * n))"
   ]
  },
  {
   "cell_type": "markdown",
   "metadata": {},
   "source": [
    "`while` blocks follow the structure\n",
    "\n",
    "```python\n",
    "while condition:\n",
    "    loop_statement_1\n",
    "    loop_statement_2\n",
    "    ...\n",
    "```\n",
    "\n",
    "The indented code will be run in a loop (like in `for` loops) until the `condition` evaluates to `False`. If you squint, it looks like the three keywords from the previous example (`for`, `if`, and `break`) wearing a trenchcoat.\n",
    "\n",
    "As an example, let's calculate the accumulated interest on a loan that we are too lazy to pay back:"
   ]
  },
  {
   "cell_type": "code",
   "execution_count": null,
   "metadata": {},
   "outputs": [],
   "source": [
    "loan = 100\n",
    "interest = 0.15\n",
    "\n",
    "while loan < 200:\n",
    "    loan *= (1 + interest)\n",
    "    print(\"The loan grew to \" + str(loan))"
   ]
  },
  {
   "cell_type": "markdown",
   "metadata": {},
   "source": [
    "#### Exercise 6\n",
    "\n",
    "Rewrite the `break` example using a `while` loop: print all positive integers smaller than the square root of 20."
   ]
  },
  {
   "cell_type": "code",
   "execution_count": null,
   "metadata": {},
   "outputs": [],
   "source": [
    "# Your code here"
   ]
  },
  {
   "cell_type": "markdown",
   "metadata": {},
   "source": [
    "## 3 Collections\n",
    "\n",
    "### 3.1 Ordered Collections: Lists and Tuples\n",
    "\n",
    "We can represent ordered collections of elements in 2 different ways:\n",
    "* A *tuple* is a comma-separated list of items between parenthesis: `(a, b, ...)`. It is *immutable*: once created, it cannot be modified.\n",
    "* A *list* is a comma-separated list of items between square brackets: `[a, b, ...]`. It is *mutable*: we can add and remove elements, or substitute them.\n",
    "\n",
    "In either case, we can access a collection's elements by *indexing*: `list[0]` gives the first element, `list[1]` the second, and so on. \n",
    "\n",
    "_**Note:** Like in most programming languages, indices in Python start at 0, not 1._"
   ]
  },
  {
   "cell_type": "code",
   "execution_count": null,
   "metadata": {},
   "outputs": [],
   "source": [
    "my_tuple = (-4, 3.5, \"hello\", True)\n",
    "# my_tuple[3] = 0 # This would fail with a TypeError message: \"'tuple' object does not support item assignment\"\n",
    "print(my_tuple[0])\n",
    "print(my_tuple[2])"
   ]
  },
  {
   "cell_type": "code",
   "execution_count": null,
   "metadata": {},
   "outputs": [],
   "source": [
    "my_list = [-4, 3.5, \"hello\", True]\n",
    "my_list[3] = 0\n",
    "my_list.append(\"foo\") # Adds an element to the end of the list.\n",
    "my_list"
   ]
  },
  {
   "cell_type": "markdown",
   "metadata": {},
   "source": [
    "To add an element to a list, we used a slightly different notation from what we've seen so far:\n",
    "\n",
    "```python\n",
    "some_list.append(new_item)\n",
    "```\n",
    "\n",
    "We will discuss this later. In short, `append()` is a function that \"belongs\" to the list. We access the function using a dot `.` between the \"containing object\" (`some_list`) and the \"contained item\" (`append()`). Contained functions that use *\"dot notation\"* (like `append()` for lists) are called *methods*."
   ]
  },
  {
   "cell_type": "markdown",
   "metadata": {},
   "source": [
    "Tuples and lists are iterable: we can use them in a for-expression."
   ]
  },
  {
   "cell_type": "code",
   "execution_count": null,
   "metadata": {},
   "outputs": [],
   "source": [
    "for item in my_list:\n",
    "    print(item)"
   ]
  },
  {
   "cell_type": "markdown",
   "metadata": {},
   "source": [
    "You can create an empty list by writing `[]`, and an empty tuple by writing `()`."
   ]
  },
  {
   "cell_type": "code",
   "execution_count": null,
   "metadata": {},
   "outputs": [],
   "source": [
    "(type( [] ), type( () ))"
   ]
  },
  {
   "cell_type": "markdown",
   "metadata": {},
   "source": [
    "Tuples with one element are tricky: if you write `(a)`, Python will think this is `a` between parentheses. Instead, you need to write `(a,)`."
   ]
  },
  {
   "cell_type": "code",
   "execution_count": null,
   "metadata": {},
   "outputs": [],
   "source": [
    "an_int = (5)\n",
    "a_tuple = (5,)\n",
    "\n",
    "(type(an_int), type(a_tuple))"
   ]
  },
  {
   "cell_type": "markdown",
   "metadata": {},
   "source": [
    "#### Exercise 7\n",
    "\n",
    "1. Create a tuple called `ocean_tuple` with the name of the Earth's oceans (in any order).\n",
    "2. Create an empty list called `ocean_list`.\n",
    "3. Iterate over `ocean_tuple`, adding every element to `ocean_list`.\n",
    "4. Display `ocean_list` and verify that it got updated correctly.\n",
    "\n",
    "*__Note:__ If you create `ocean_list` in one cell and update it in a later cell, running the later cell repeatedly will keep adding the ocean names again and again. Notebooks are only deterministic if you execute each cell once, and in order!*"
   ]
  },
  {
   "cell_type": "code",
   "execution_count": null,
   "metadata": {},
   "outputs": [],
   "source": [
    "# Your code here"
   ]
  },
  {
   "cell_type": "markdown",
   "metadata": {},
   "source": [
    "### 3.2 Key-Value Pairs: Dicts\n",
    "\n",
    "We can represent key-value pairs with a *dict*(ionary). We write dicts between curly brackets, as `{ key1: value1, key2: value2, ... }`. Dicts are indexed by the key and return the value."
   ]
  },
  {
   "cell_type": "code",
   "execution_count": null,
   "metadata": {},
   "outputs": [],
   "source": [
    "my_dict = { \"pi\": 3, \"life\": 42 }\n",
    "my_dict[\"pi\"]"
   ]
  },
  {
   "cell_type": "markdown",
   "metadata": {},
   "source": [
    "Like lists, dicts are mutable:"
   ]
  },
  {
   "cell_type": "code",
   "execution_count": null,
   "metadata": {},
   "outputs": [],
   "source": [
    "my_dict[\"not found\"] = 404\n",
    "my_dict"
   ]
  },
  {
   "cell_type": "markdown",
   "metadata": {},
   "source": [
    "Note that dicts are also *ordered* in modern Python (version 3.7 and above): when we print `my_dict`, the keys are displayed in *insertion order* (the order we added them).\n",
    "\n",
    "Iterating over a dict returns its keys, also in order:"
   ]
  },
  {
   "cell_type": "code",
   "execution_count": null,
   "metadata": {},
   "outputs": [],
   "source": [
    "for key in my_dict:\n",
    "    print(\"----\")\n",
    "    print(\"KEY: \" + key)\n",
    "    value = my_dict[key]\n",
    "    print(\"VALUE: \" + str(value))"
   ]
  },
  {
   "cell_type": "markdown",
   "metadata": {},
   "source": [
    "Just like `[]` is an empty list and `()` is an empty tuple, `{}` is an empty dict."
   ]
  },
  {
   "cell_type": "code",
   "execution_count": null,
   "metadata": {},
   "outputs": [],
   "source": [
    "type({})"
   ]
  },
  {
   "cell_type": "markdown",
   "metadata": {},
   "source": [
    "#### Exercise 8\n",
    "\n",
    "1. Create a dict called `letters` that has the first 4 uppercase letters of the alphabet as its keys, and each letter's corresponding lowercase letter as the value (e.g., the key `\"A\"` corresponds to the value `\"a\"`).\n",
    "2. Add the 5th letter of the alphabet to `letters`.\n",
    "3. Iterate over the dict, printing `<key>: <value>` (e.g., `\"A: a\"`)."
   ]
  },
  {
   "cell_type": "code",
   "execution_count": null,
   "metadata": {},
   "outputs": [],
   "source": [
    "# Your code here"
   ]
  },
  {
   "cell_type": "markdown",
   "metadata": {},
   "source": [
    "### 3.3 More on Tuples\n",
    "\n",
    "Tuples have a couple of handy properties. First, the *parentheses are optional* (as long as the meaning is clear from context):"
   ]
  },
  {
   "cell_type": "code",
   "execution_count": null,
   "metadata": {},
   "outputs": [],
   "source": [
    "1, 2, 3"
   ]
  },
  {
   "cell_type": "markdown",
   "metadata": {},
   "source": [
    "Second, we can assign several variables at once using tuples:"
   ]
  },
  {
   "cell_type": "code",
   "execution_count": null,
   "metadata": {},
   "outputs": [],
   "source": [
    "(a, b) = (1, 2)\n",
    "c, d, e = 3, 4, 5\n",
    "\n",
    "b, d"
   ]
  },
  {
   "cell_type": "markdown",
   "metadata": {},
   "source": [
    "Later on, we will find several examples of functions and expressions using tuples to return multiple values at once. The two properties we just described (optional parentheses, multiple assignment) allow us to write natural code like this:\n",
    "\n",
    "```python\n",
    "x, y = function_with_two_outputs()\n",
    "```"
   ]
  },
  {
   "cell_type": "markdown",
   "metadata": {},
   "source": [
    "#### Exercise 9\n",
    "\n",
    "1. Use tuples without parentheses to assign the values `True` and `False` to the variables `first` and `second` (in this order), in a single line.\n",
    "2. Use tuples without parentheses to display the values of `first` and `second` in a single line."
   ]
  },
  {
   "cell_type": "code",
   "execution_count": null,
   "metadata": {},
   "outputs": [],
   "source": [
    "# Your code here"
   ]
  },
  {
   "cell_type": "markdown",
   "metadata": {},
   "source": [
    "### 3.4 len() and enumerate()\n",
    "\n",
    "We can check the length of a collection using the `len()` built-in function:"
   ]
  },
  {
   "cell_type": "code",
   "execution_count": null,
   "metadata": {},
   "outputs": [],
   "source": [
    "len(\"hello\"), len(my_tuple), len(my_list), len(my_dict)"
   ]
  },
  {
   "cell_type": "markdown",
   "metadata": {},
   "source": [
    "It can be tempting to use `len()` to loop over a list, if we need to know the current index:"
   ]
  },
  {
   "cell_type": "code",
   "execution_count": null,
   "metadata": {},
   "outputs": [],
   "source": [
    "for idx in range(len(my_list)):\n",
    "    entry = my_list[idx]\n",
    "    print(\"[\" + str(idx) + \"] \" + str(entry))"
   ]
  },
  {
   "cell_type": "markdown",
   "metadata": {},
   "source": [
    "However, this wouldn't work with a dict (we need the key to get the value). It's also a bit ugly! It's better to use the built-in function `enumerate()`:"
   ]
  },
  {
   "cell_type": "code",
   "execution_count": null,
   "metadata": {},
   "outputs": [],
   "source": [
    "for (idx, key) in enumerate(my_dict):\n",
    "    value = my_dict[key]\n",
    "    print(\"[\" + str(idx) + \"] \" + key + \": \" + str(value))"
   ]
  },
  {
   "cell_type": "markdown",
   "metadata": {},
   "source": [
    "Iterating over `enumerate(iterable)` produces a 2-element tuple, with the index (0, 1, 2...) as the first element, and whatever the `iterable` would normally produce as the second element. As usual, the parentheses are optional:"
   ]
  },
  {
   "cell_type": "code",
   "execution_count": null,
   "metadata": {},
   "outputs": [],
   "source": [
    "for idx, entry in enumerate(my_list):\n",
    "    print(\"[\" + str(idx) + \"] \" + str(entry))"
   ]
  },
  {
   "cell_type": "markdown",
   "metadata": {},
   "source": [
    "#### Exercise 10\n",
    "\n",
    "Use `len()` to show the length of the tuple `ocean_tuple` and the list `ocean_list` (from Exercise 7), as well as the dict `letters` (from Exercise 8)."
   ]
  },
  {
   "cell_type": "code",
   "execution_count": null,
   "metadata": {},
   "outputs": [],
   "source": [
    "# Your code here"
   ]
  },
  {
   "cell_type": "markdown",
   "metadata": {},
   "source": [
    "#### Exercise 11\n",
    "\n",
    "Use `enumerate()` to list the keys of `letters` (from Exercise 8) as `\"[<idx>] <key>\"` (e.g., `\"[0] A\"`)."
   ]
  },
  {
   "cell_type": "code",
   "execution_count": null,
   "metadata": {},
   "outputs": [],
   "source": [
    "# Your code here"
   ]
  },
  {
   "cell_type": "markdown",
   "metadata": {},
   "source": [
    "### 3.5 More uses of \"in\"\n",
    "\n",
    "We have seen the keyword `in` used in for loops:\n",
    "\n",
    "```python\n",
    "for variable in iterable:\n",
    "    ...\n",
    "```\n",
    "\n",
    "We can also use `in` to check if an item is in a collection:"
   ]
  },
  {
   "cell_type": "code",
   "execution_count": null,
   "metadata": {},
   "outputs": [],
   "source": [
    "3 in [ 3, 5, 7 ]"
   ]
  },
  {
   "cell_type": "code",
   "execution_count": null,
   "metadata": {},
   "outputs": [],
   "source": [
    "11 in [ 3, 5, 7 ]"
   ]
  },
  {
   "cell_type": "code",
   "execution_count": null,
   "metadata": {},
   "outputs": [],
   "source": [
    "\"l\" in \"Hello!\""
   ]
  },
  {
   "cell_type": "code",
   "execution_count": null,
   "metadata": {},
   "outputs": [],
   "source": [
    "\"3\" in str(303)"
   ]
  },
  {
   "cell_type": "markdown",
   "metadata": {},
   "source": [
    "When applied to dictionaries, `in` checks if the item is a *key*."
   ]
  },
  {
   "cell_type": "code",
   "execution_count": null,
   "metadata": {},
   "outputs": [],
   "source": [
    "\"left\" in { \"left\": \"right\" }"
   ]
  },
  {
   "cell_type": "code",
   "execution_count": null,
   "metadata": {},
   "outputs": [],
   "source": [
    "\"right\" in { \"left\": \"right\" }"
   ]
  },
  {
   "cell_type": "markdown",
   "metadata": {},
   "source": [
    "#### Exercise 12\n",
    "\n",
    "Check if `\"Pacific Ocean\"` and `\"Caspian Sea\"` are in `ocean_tuple` and `ocean_list` (from Exercise 7).\n",
    "\n",
    "*__Note:__ You can put the strings into variables if you want to reduce the risk of typos.*"
   ]
  },
  {
   "cell_type": "code",
   "execution_count": null,
   "metadata": {},
   "outputs": [],
   "source": [
    "# Your code here"
   ]
  },
  {
   "cell_type": "markdown",
   "metadata": {},
   "source": [
    "#### Exercise 13\n",
    "\n",
    "Check if `\"A\"` and `\"a\"` are in `letters` (from Exercise 8)."
   ]
  },
  {
   "cell_type": "code",
   "execution_count": null,
   "metadata": {},
   "outputs": [],
   "source": [
    "# Your code here"
   ]
  },
  {
   "cell_type": "markdown",
   "metadata": {},
   "source": [
    "### 3.6 Comprehensions\n",
    "\n",
    "Python has a cool trick up its sleeve to initialize collections: *comprehensions*. Imagine we want to initialize a list with the squares of all numbers up to 10:"
   ]
  },
  {
   "cell_type": "code",
   "execution_count": null,
   "metadata": {},
   "outputs": [],
   "source": [
    "verbose_squares = []\n",
    "\n",
    "for n in range(1, 11):\n",
    "    verbose_squares.append(n * n)\n",
    "\n",
    "verbose_squares"
   ]
  },
  {
   "cell_type": "markdown",
   "metadata": {},
   "source": [
    "That's a fair amount of code! We can write this as a \"condensed loop\", called a *comprehension*, to make it nicer to read:"
   ]
  },
  {
   "cell_type": "code",
   "execution_count": null,
   "metadata": {},
   "outputs": [],
   "source": [
    "lean_squares = [ n * n for n in range(1, 11) ]\n",
    "lean_squares"
   ]
  },
  {
   "cell_type": "markdown",
   "metadata": {},
   "source": [
    "List comprehensions follow the structure\n",
    "\n",
    "```python\n",
    "some_list = [ expression_using_variable for variable in iterator ]\n",
    "```\n",
    "\n",
    "We can also add a \"filtering step\":\n",
    "\n",
    "```python\n",
    "some_list = [ expression_using_variable for variable in iterator if condition_using_variable ]\n",
    "```\n",
    "\n",
    "Similarly, dictionary comprehensions follow the structure\n",
    "\n",
    "```python\n",
    "some_dict = { experssion_for_key: expression_for_value for variable in iterator }\n",
    "```\n",
    "\n",
    "and can also have the filter."
   ]
  },
  {
   "cell_type": "code",
   "execution_count": null,
   "metadata": {},
   "outputs": [],
   "source": [
    "odds_to_evens = { n: n+1 for n in range(1, 11) if n % 2 == 1 }\n",
    "odds_to_evens"
   ]
  },
  {
   "cell_type": "markdown",
   "metadata": {},
   "source": [
    "Comprehensions can get hard to read, so it's best to only use them in simple cases. You will see some natural examples further down."
   ]
  },
  {
   "cell_type": "markdown",
   "metadata": {},
   "source": [
    "#### Exercise 14\n",
    "\n",
    "Write a list comprehension to list the first 5 multiples of 3, except the number 6.\n",
    "\n",
    "*__Hint:__ Your output should look like `[3, 9, 12, 15]`.*"
   ]
  },
  {
   "cell_type": "code",
   "execution_count": null,
   "metadata": {},
   "outputs": [],
   "source": [
    "# Your code here"
   ]
  },
  {
   "cell_type": "markdown",
   "metadata": {},
   "source": [
    "#### Exercise 15\n",
    "\n",
    "Write a dictionary comprehension to map each number smaller than 50 to its square, keeping only numbers that are written with a 7.\n",
    "\n",
    "*__Hint:__ The output should look like `{ 7: 49, 17: 289, ... }`.*"
   ]
  },
  {
   "cell_type": "code",
   "execution_count": null,
   "metadata": {},
   "outputs": [],
   "source": [
    "# Your code here"
   ]
  },
  {
   "cell_type": "markdown",
   "metadata": {},
   "source": [
    "### 3.7 Advanced Indexing and Slicing\n",
    "\n",
    "If you want to get elements from the end of a list, you can use negative indices:"
   ]
  },
  {
   "cell_type": "code",
   "execution_count": null,
   "metadata": {},
   "outputs": [],
   "source": [
    "some_numbers = [ 1 + 2 * n for n in range(12) ]\n",
    "some_numbers"
   ]
  },
  {
   "cell_type": "code",
   "execution_count": null,
   "metadata": {},
   "outputs": [],
   "source": [
    "some_numbers[-1], some_numbers[-2], some_numbers[-3]"
   ]
  },
  {
   "cell_type": "markdown",
   "metadata": {},
   "source": [
    "You can also use a *slice expression* to get a subset of the list (we're getting *a slice* of the pie):"
   ]
  },
  {
   "cell_type": "code",
   "execution_count": null,
   "metadata": {},
   "outputs": [],
   "source": [
    "some_numbers[2:4] # All elements with 2 <= index < 4."
   ]
  },
  {
   "cell_type": "markdown",
   "metadata": {},
   "source": [
    "The basic form is `some_list[start:stop]`. All indices from `start` (inclusive) until `stop` (exclusive) are taken. In the case above, we got the list contents in indices 2 and 3.\n",
    "\n",
    "If we skip `start`, the list will be taken from the beginning; if we skip `end`, the list will be taken until the end."
   ]
  },
  {
   "cell_type": "code",
   "execution_count": null,
   "metadata": {},
   "outputs": [],
   "source": [
    "some_numbers[:2] # All items with index < 2."
   ]
  },
  {
   "cell_type": "code",
   "execution_count": null,
   "metadata": {},
   "outputs": [],
   "source": [
    "some_numbers[-3:] # All items starting from -3 (third-last)."
   ]
  },
  {
   "cell_type": "code",
   "execution_count": null,
   "metadata": {},
   "outputs": [],
   "source": [
    "some_numbers[:] # You can even do this."
   ]
  },
  {
   "cell_type": "markdown",
   "metadata": {},
   "source": [
    "A less common slice expression is `some_list[start:stop:step]`. In this case, instead of adding 1 to the index every time until we reach `stop`, we add `step`.\n",
    "\n",
    "With this, we can skip elements or even reverse the list."
   ]
  },
  {
   "cell_type": "code",
   "execution_count": null,
   "metadata": {},
   "outputs": [],
   "source": [
    "some_numbers[1:6:2] # Every element with 1 <= index < 6, skipping every other entry."
   ]
  },
  {
   "cell_type": "code",
   "execution_count": null,
   "metadata": {},
   "outputs": [],
   "source": [
    "some_numbers[::3] # Every third entry in the whole list, starting with the first."
   ]
  },
  {
   "cell_type": "code",
   "execution_count": null,
   "metadata": {},
   "outputs": [],
   "source": [
    "some_numbers[::-1] # Reverse the list."
   ]
  },
  {
   "cell_type": "markdown",
   "metadata": {},
   "source": [
    "#### Exercise 16\n",
    "\n",
    "1. Display every element in `ocean_tuple` (from Exercise 7), from the third (inclusive).\n",
    "2. Display every element in `ocean_list` (from Exercise 7), until the fourth (inclusive)."
   ]
  },
  {
   "cell_type": "code",
   "execution_count": null,
   "metadata": {},
   "outputs": [],
   "source": [
    "# Your code here"
   ]
  },
  {
   "cell_type": "markdown",
   "metadata": {},
   "source": [
    "#### Exercise 17\n",
    "\n",
    "Display every second element from `ocean_list`, starting from the second element."
   ]
  },
  {
   "cell_type": "code",
   "execution_count": null,
   "metadata": {},
   "outputs": [],
   "source": [
    "# Your code here"
   ]
  },
  {
   "cell_type": "markdown",
   "metadata": {},
   "source": [
    "## 4 F-Strings\n",
    "\n",
    "Our print expressions are starting to get complicated, cluttered with `str()` and `+`. We can make this cleaner and more readable by using *interpolated strings*. In Python, these are often called *f-strings*.\n",
    "\n",
    "An f-string starts with a literal `f`: it looks like `f\"...\"` or `f'...'`. Its contents are treated as a normal string, except expressions between curly braces: `{...}`. These are treated as normal Python code, and their result is printed instead of the brace expression."
   ]
  },
  {
   "cell_type": "code",
   "execution_count": null,
   "metadata": {},
   "outputs": [],
   "source": [
    "print(f\"Some arithmetic: {2 + 2}.\")\n",
    "print(f\"The length of my_tuple is {len(my_tuple)}, and its first element is {my_tuple[0]}.\")"
   ]
  },
  {
   "cell_type": "markdown",
   "metadata": {},
   "source": [
    "The previous example about iterating over a dict becomes much cleaner:"
   ]
  },
  {
   "cell_type": "code",
   "execution_count": null,
   "metadata": {},
   "outputs": [],
   "source": [
    "for (idx, key) in enumerate(my_dict):\n",
    "    value = my_dict[key]\n",
    "    print(f\"[{idx}] {key}: {value}\")"
   ]
  },
  {
   "cell_type": "markdown",
   "metadata": {},
   "source": [
    "#### Exercise 18\n",
    "\n",
    "Use an f-expression to print each entry in `my_tuple`, preceded by its index. The output should look roughly like this (substituting the ellipses):\n",
    "\n",
    "```\n",
    "[0] -4\n",
    "...\n",
    "[3] True\n",
    "```"
   ]
  },
  {
   "cell_type": "code",
   "execution_count": null,
   "metadata": {},
   "outputs": [],
   "source": [
    "# Your code here"
   ]
  },
  {
   "cell_type": "markdown",
   "metadata": {},
   "source": [
    "## 5 Functions\n",
    "\n",
    "### 5.1 Defining Functions\n",
    "\n",
    "We have already seen some functions provided by Python, like `print()`, `range()`, and `iterate()`. We can also define our own functions that take inputs, run some calculations, and produce outputs. A function definition looks like this:\n",
    "\n",
    "```python\n",
    "# Defining the function\n",
    "def function_name(parameter_1, parameter_2, ...):\n",
    "    statement_1\n",
    "    statement_2\n",
    "    ...\n",
    "    return output\n",
    "\n",
    "# Calling the function\n",
    "value = function_name(argument_1, argument_2, ...)\n",
    "```\n",
    "\n",
    "Some examples:"
   ]
  },
  {
   "cell_type": "code",
   "execution_count": null,
   "metadata": {},
   "outputs": [],
   "source": [
    "# add_two() takes a number and returns a number.\n",
    "def add_two(x):\n",
    "    return x + 2\n",
    "\n",
    "add_two(3)"
   ]
  },
  {
   "cell_type": "code",
   "execution_count": null,
   "metadata": {},
   "outputs": [],
   "source": [
    "# yell() takes a string and returns a string.\n",
    "def yell(text):\n",
    "    text = text.upper() # If `text` is a string, it contains a method called `upper()` that returns an all-caps (uppercase) copy of the string.\n",
    "    text += \"!!!\"\n",
    "    return text\n",
    "\n",
    "yell(\"hello, world\")"
   ]
  },
  {
   "cell_type": "code",
   "execution_count": null,
   "metadata": {},
   "outputs": [],
   "source": [
    "# vector_magnitude() takes two numbers and returns a number.\n",
    "def vector_magnitude(x, y):\n",
    "    squared_magnitude = x ** 2 + y ** 2\n",
    "    return squared_magnitude ** 0.5\n",
    "\n",
    "vector_magnitude(3, 4)"
   ]
  },
  {
   "cell_type": "markdown",
   "metadata": {},
   "source": [
    "Like variables, function definitions can be accessed in different cells (after they have been defined)."
   ]
  },
  {
   "cell_type": "code",
   "execution_count": null,
   "metadata": {},
   "outputs": [],
   "source": [
    "n = add_two(4)\n",
    "text = yell(f\"n is {n}\")\n",
    "\n",
    "text"
   ]
  },
  {
   "cell_type": "markdown",
   "metadata": {},
   "source": [
    "A function definition starts with the keyword `def`, followed by the function name, followed by the expected inputs as a list between parentheses, followed by a colon (`:`). As always, the function *body* (its contents) is delimited by indentation. The function stops when it finds the `return` keyword, and returns whatever value is next to it.\n",
    "\n",
    "Here is an example with several return statements:"
   ]
  },
  {
   "cell_type": "code",
   "execution_count": null,
   "metadata": {},
   "outputs": [],
   "source": [
    "def several_exit_points(value, condition):\n",
    "    if condition:\n",
    "        return value / 2 # Return point if condition == True\n",
    "\n",
    "    return value / 3 # Return point if condition == False (otherwise we would have already returned!)\n",
    "\n",
    "    return 0 # This is never reached (we hit the previous return point first)\n",
    "\n",
    "a = several_exit_points(6, True)\n",
    "b = several_exit_points(6, False)\n",
    "\n",
    "a, b"
   ]
  },
  {
   "cell_type": "markdown",
   "metadata": {},
   "source": [
    "A function doesn't need to return anything: sometimes we just want to run some code! In that case, we can skip the return statement."
   ]
  },
  {
   "cell_type": "code",
   "execution_count": null,
   "metadata": {},
   "outputs": [],
   "source": [
    "# print_between_lines() takes a string and doesn't return anything.\n",
    "def print_between_lines(text):\n",
    "    separator = \"-\" * len(text)\n",
    "    print(separator)\n",
    "    print(text)\n",
    "    print(separator)\n",
    "\n",
    "print_between_lines(\"Hello, world!\")\n",
    "print_between_lines(\"Lorem ipsum dolor sit amet, consectetur adipiscing elit, sed do eiusmod tempor incididunt ut labore et dolore magna aliqua.\")"
   ]
  },
  {
   "cell_type": "markdown",
   "metadata": {},
   "source": [
    "A more complicated example: let's calculate the `n`-th Fibonacci number."
   ]
  },
  {
   "cell_type": "code",
   "execution_count": null,
   "metadata": {},
   "outputs": [],
   "source": [
    "# fibonacci() takes an integer and returns an integer.\n",
    "def fibonacci(n):\n",
    "    if n < 3:\n",
    "        return 1\n",
    "\n",
    "    previous = 1\n",
    "    current = 1\n",
    "\n",
    "    for _ in range(2, n):\n",
    "        previous, current = current, current + previous\n",
    "\n",
    "    return current\n",
    "\n",
    "for n in range(1, 10):\n",
    "    print(f\"{n} => {fibonacci(n)}\")"
   ]
  },
  {
   "cell_type": "markdown",
   "metadata": {},
   "source": [
    "*__Convention:__ A single underscore `_` is a valid variable name in Python. By convention, it is used when we don't use the variable. In the example above, we use `range()` to control how many times we update `previous` and `current`, but we don't really care about the index.*"
   ]
  },
  {
   "cell_type": "markdown",
   "metadata": {},
   "source": [
    "#### Exercise 19\n",
    "\n",
    "1. Write a function called `factorial` that takes a number and returns its factorial: `n! = n * (n - 1) * (n - 2) * ... * 2 * 1` (e.g., `4! = 4 * 3 * 2 * 1 = 24`).\n",
    "2. Use `factorial()` to display the factorials of 3, 4, and 5."
   ]
  },
  {
   "cell_type": "code",
   "execution_count": null,
   "metadata": {},
   "outputs": [],
   "source": [
    "# Your code here"
   ]
  },
  {
   "cell_type": "markdown",
   "metadata": {},
   "source": [
    "### 5.2 Variable Access\n",
    "\n",
    "Functions allow us to define variables inside their body. It's important to understand the rules for *variable access*:\n",
    "* Variables that are defined inside a function are *local*: they only exist within the function.\n",
    "* Variables that are defined at the top level (outside any functions) are *global*: they can be accessed anywhere.\n",
    "* In particular, functions can interact with global variables.\n",
    "\n",
    "The part of the code where you can access a variable is its *scope*. Other languages have more fine-grained scopes (e.g., code blocks in C) or only global scope (e.g., old-style `var` variables in JS), but Python has two scopes: function scope, and global scope."
   ]
  },
  {
   "cell_type": "code",
   "execution_count": null,
   "metadata": {},
   "outputs": [],
   "source": [
    "data = {}\n",
    "\n",
    "# `add_entry()` modifies the internal state of the global variable `data`.\n",
    "def add_entry(key, value):\n",
    "    data[key] = value\n",
    "\n",
    "add_entry(\"hi\", \"there\")\n",
    "add_entry(\"oh\", \"my\")\n",
    "\n",
    "data"
   ]
  },
  {
   "cell_type": "markdown",
   "metadata": {},
   "source": [
    "The tricky bit is *variable shadowing*: if we define a variable at function scope that shares a name with a global variable, **we are not overwriting the global variable**. We're just creating a new local variable that *overshadows* the global variable."
   ]
  },
  {
   "cell_type": "code",
   "execution_count": null,
   "metadata": {},
   "outputs": [],
   "source": [
    "sacred_number = 144_000\n",
    "\n",
    "# cast_shadow() has no inputs or outputs.\n",
    "def cast_shadow():\n",
    "    sacred_number = 666\n",
    "    print(f\"Inside the function: {sacred_number}\")\n",
    "\n",
    "cast_shadow()\n",
    "print(f\"After the function:  {sacred_number}\")"
   ]
  },
  {
   "cell_type": "markdown",
   "metadata": {},
   "source": [
    "#### Exercise 20\n",
    "\n",
    "1. Define two global variables: `wrapper` and `raw`. Initialize `wrapper` as a list with a single element: the number 0. Initialize `raw` as the number 0.\n",
    "2. Define a function called `increment_globals()` that does the following:\n",
    "    1. Store the value of `wrapper[0]` to a local variable called `temp` (for *temporary*).\n",
    "    2. Icrement `temp` by 1.\n",
    "    3. Assign the value in `temp` to the variables `wrapper[0]` and `raw`.\n",
    "3. Call `increment_globals()` a few times.\n",
    "4. Display the values of `wrapper` and `raw`.\n",
    "\n",
    "*__Hint:__ According to variable shadowing, trying to assign a new value to `raw` inside of `increment_globals()` will create a local variable instead. With `wrapper[0]`, however, we're not assigning to the global variable: we're assigning to one of its internal values. This \"hack\" works around the shadowing rules.*"
   ]
  },
  {
   "cell_type": "code",
   "execution_count": null,
   "metadata": {},
   "outputs": [],
   "source": [
    "# Your code here"
   ]
  },
  {
   "cell_type": "markdown",
   "metadata": {},
   "source": [
    "### 5.3 Parameters or Arguments?\n",
    "\n",
    "A note on terminology:\n",
    "* The *expected inputs* in a function definition are called *parameters*. They act as variables that are available *only within the function body*. \n",
    "* The *provided inputs* in a function call are called *arguments*. They are specific values that we are passing to the function.\n",
    "\n",
    "Some examples: \n",
    "* In the `add_two()` example, the *parameter* is the variable `x` in the function definition. When we call it in the same cell, the *argument* is the value `3`. When we call it again in a later cell, the *argument* is 4.\n",
    "* In the `print_between_lines()` example, the *parameter* is the variable `text` in the function definition. We first call it with the *argument* `\"hello, world\"`, and then we call it with the *argument* `\"Lorem ipsum...\"`."
   ]
  },
  {
   "cell_type": "markdown",
   "metadata": {},
   "source": [
    "#### Exercise 21\n",
    "\n",
    "In Exercise 19 (defining and using `factorial()`), what are the parameters? What are the arguments?"
   ]
  },
  {
   "cell_type": "markdown",
   "metadata": {},
   "source": [
    "### 5.4 Multiple Return\n",
    "\n",
    "We can use the magic of tuples to return multiple values from a function:"
   ]
  },
  {
   "cell_type": "code",
   "execution_count": null,
   "metadata": {},
   "outputs": [],
   "source": [
    "# multiple_return() takes two numbers and returns three numbers.\n",
    "def multiple_return(x, y):\n",
    "    return x + y, x * y, x / y\n",
    "\n",
    "a, b, c = multiple_return(6, 3)\n",
    "\n",
    "print(f\"Sum: {a}\\nProduct: {b}\\nDivision: {c}\")"
   ]
  },
  {
   "cell_type": "markdown",
   "metadata": {},
   "source": [
    "#### Exercise 22\n",
    "\n",
    "1. Define a function called `swap_order()` that takes in two parameters and returns them in reverse order. \n",
    "2. Use it with arguments `True`, `False` (in this order); and assign them to variables `x`, `y` (in this order). \n",
    "3. Display `x` and `y` (in this order)."
   ]
  },
  {
   "cell_type": "code",
   "execution_count": null,
   "metadata": {},
   "outputs": [],
   "source": [
    "# Your code here"
   ]
  },
  {
   "cell_type": "markdown",
   "metadata": {},
   "source": [
    "### 5.5 Keyword Arguments\n",
    "\n",
    "Passing a lot of arguments to a function can get confusing. We have to remember which values we need to pass, and in which order. To alleviate this, Python allows us to pass arguments by *keyword*. The \"keyword\" is the parameter name."
   ]
  },
  {
   "cell_type": "code",
   "execution_count": null,
   "metadata": {},
   "outputs": [],
   "source": [
    "def print_name(given_name, family_name, use_western_order):\n",
    "    if use_western_order:\n",
    "        print(f\"{given_name} {family_name}\")\n",
    "    else:\n",
    "        print(f\"{family_name} {given_name}\")\n",
    "\n",
    "print_name(\"Ebenezer\", \"Scrooge\", True) # Passing arguments by position.\n",
    "print_name(given_name=\"Ebenezer\", family_name=\"Scrooge\", use_western_order=True) # Passing the same arguments by keyword.\n",
    "print_name(use_western_order=False, given_name=\"Ebenezer\", family_name=\"Scrooge\") # Eastern order, with the keywords in a different order."
   ]
  },
  {
   "cell_type": "markdown",
   "metadata": {},
   "source": [
    "We can also mix and match: we can pass some arguments by position, and some by keyword. The only restriction is that positional arguments must come first, and keyword characters later."
   ]
  },
  {
   "cell_type": "code",
   "execution_count": null,
   "metadata": {},
   "outputs": [],
   "source": [
    "print_name(\"Tim\", \"Tiny\", use_western_order=False) # Keyword arguments at the end.\n",
    "# print_name(\"Tim\", family_name=\"Tiny\", False) # This fails with message SyntaxError: positional argument follows keyword argument."
   ]
  },
  {
   "cell_type": "markdown",
   "metadata": {},
   "source": [
    "#### Exercise 23\n",
    "\n",
    "Use keyword arguments to call `multiple_return()`, passing arguments to `y` and `x`, in this order. Display the function's output."
   ]
  },
  {
   "cell_type": "code",
   "execution_count": null,
   "metadata": {},
   "outputs": [],
   "source": [
    "# Your code here"
   ]
  },
  {
   "cell_type": "markdown",
   "metadata": {},
   "source": [
    "### 5.6 Default Arguments\n",
    "\n",
    "Sometimes, we would like to be able to skip arguments, and let the function use a default value for the parameter. Python calls this *default parameter values*, and they can be set in the function definition. For example, we can extend `vector_magnitude()` above to accept other [p-norms](https://en.wikipedia.org/wiki/Norm_(mathematics)#p-norm):"
   ]
  },
  {
   "cell_type": "code",
   "execution_count": null,
   "metadata": {},
   "outputs": [],
   "source": [
    "def norm(x, y, p=2):\n",
    "    return (x ** p + y ** p) ** (1 / p)\n",
    "\n",
    "norm(3, 4), norm(3, 4, 1), norm(3, 4, p=4)"
   ]
  },
  {
   "cell_type": "markdown",
   "metadata": {},
   "source": [
    "#### Exercise 24\n",
    "\n",
    "1. Write a new version of `yell()`, called `shout()`, that defaults to returning `\"AAAA!!!\"` if no argument is passed.\n",
    "2. Print the results of calling `shout()` with and without arguments."
   ]
  },
  {
   "cell_type": "code",
   "execution_count": null,
   "metadata": {},
   "outputs": [],
   "source": [
    "# Your code here"
   ]
  },
  {
   "cell_type": "markdown",
   "metadata": {},
   "source": [
    "## 6 Imports and Modules\n",
    "\n",
    "### 6.1 Importing Code and the Standard Library\n",
    "\n",
    "Suppose we are working on a math-heavy project and we need to use common mathematical functions like `sin()`, `cos()`, `exp()`, or `log()`. These are not built-in functions in Python. Does that mean we need to code them by hand for every project that needs them? Of course not! All you need to write is:"
   ]
  },
  {
   "cell_type": "code",
   "execution_count": null,
   "metadata": {},
   "outputs": [],
   "source": [
    "import math\n",
    "\n",
    "math.log(10) # Natural logarithm (base e)"
   ]
  },
  {
   "cell_type": "markdown",
   "metadata": {},
   "source": [
    "Python comes with a *standard library* of *modules* you can *import* into your code. You can think of a module as a pre-packaged bundle of functions and variables that you can bring into your project. When you write `import math`, Python loads the math bundle from the standard library into a variable called `math`. You can `import` anywhere in your code, but standard practice is to put all your imports at the beginning of a script. \n",
    "\n",
    "The standard library is very well documented. For example, you can find all the contents of the `math` module at https://docs.python.org/3/library/math.html"
   ]
  },
  {
   "cell_type": "markdown",
   "metadata": {},
   "source": [
    "Another example from the standard library is the `random` module, which contains pseudo-random number generation utilities.\n",
    "\n",
    "Suppose we're feeling lazy today, and we don't want to type the whole word `random` every time we use the module. In that case, we can rename the import with the keyword `as`:"
   ]
  },
  {
   "cell_type": "code",
   "execution_count": null,
   "metadata": {},
   "outputs": [],
   "source": [
    "import random as r\n",
    "\n",
    "[ r.uniform(2, 3) for _ in range(5) ]"
   ]
  },
  {
   "cell_type": "markdown",
   "metadata": {},
   "source": [
    "In Python, a module is just a Python file, or a folder containing Python files, and the name of the module is the name of the file/folder. In particular, modules can be nested inside each other. For example, the standard library module `os` provides Operating System-related functionality. It also has a sub-module `os.path` to deal with file path manipulation. We can import a sub-module using the keyword `from`:"
   ]
  },
  {
   "cell_type": "code",
   "execution_count": null,
   "metadata": {},
   "outputs": [],
   "source": [
    "import os\n",
    "from os import path\n",
    "\n",
    "print(os.getcwd()) # Print the current working directory.\n",
    "print(path.commonpath([ \"/usr/lib\", \"/usr/local/lib\" ])) # Check the common part of two paths (using `path` directly).\n",
    "print(os.path.commonpath([ \"/usr/lib\", \"/usr/local/lib\" ])) # Check the common part of two paths (using `path` as a submodule of `os`)."
   ]
  },
  {
   "cell_type": "markdown",
   "metadata": {},
   "source": [
    "#### Exercise 25\n",
    "\n",
    "1. Import the standard library module `statistics`. [Here are the docs](https://docs.python.org/3/library/statistics.html).\n",
    "2. Create a list called `samples`, filled with random numbers (use the `random` library that we imported as `r`).\n",
    "3. Calculate and display statistics for `samples`: mean, median, and variance."
   ]
  },
  {
   "cell_type": "code",
   "execution_count": null,
   "metadata": {},
   "outputs": [],
   "source": [
    "# Your code here"
   ]
  },
  {
   "cell_type": "markdown",
   "metadata": {},
   "source": [
    "### 6.2 Local Modules\n",
    "\n",
    "If Python does not find a module in the standard library, it will typically check the folder where your script is placed next. If you run this notebook next to `python_crash_course_module.py`, the following snippet will import the file as a custom module."
   ]
  },
  {
   "cell_type": "code",
   "execution_count": null,
   "metadata": {},
   "outputs": [],
   "source": [
    "import python_crash_course_module as local\n",
    "cursed = local.cursed_text(\"What happened to me?\", curse_level=8)\n",
    "print(cursed)"
   ]
  },
  {
   "cell_type": "markdown",
   "metadata": {},
   "source": [
    "Note that, unlike other languages, Python does not have a concept of public vs. private members of a module. Everything in the module is always exposed. By convention, variables and functions that should not be called by a user start with an underscore (`_`)."
   ]
  },
  {
   "cell_type": "markdown",
   "metadata": {},
   "source": [
    "#### Exercise 26\n",
    "\n",
    "Make a local module called `my_custom_module` that contains a function called `my_func()`. The function should take no arguments and return a random lowercase letter in the Latin alphabet. Test it with the snippet below.\n",
    "\n",
    "*__Hint 1:__ You can use a list comprehension and a built-in function to get the Latin alphabet.*\n",
    "\n",
    "*__Hint 2:__ Check the `random` documentation. There is an easy way to return a random element from a list.*"
   ]
  },
  {
   "cell_type": "code",
   "execution_count": null,
   "metadata": {},
   "outputs": [],
   "source": [
    "# Your code here"
   ]
  },
  {
   "cell_type": "markdown",
   "metadata": {},
   "source": [
    "### 6.3 Pip and External Packages\n",
    "\n",
    "Aside from the standard library modules provided by Python, and the local modules provided by us, there is a third important option: **trusting code from strangers in the internet**.\n",
    "\n",
    "You can install packages from the official [Python Package Index (PyPI)](https://pypi.org/) by using the command-line tool `pip` that comes pre-packaged with Python. If we want to install NumPy (the go-to library for numerical operations in Python), we can run the following on our terminal:\n",
    "\n",
    "```cli\n",
    "pip install numpy\n",
    "```\n",
    "\n",
    "If you don't have NumPy installed, install it now! Once you're done, the following code should work:"
   ]
  },
  {
   "cell_type": "code",
   "execution_count": null,
   "metadata": {},
   "outputs": [],
   "source": [
    "import numpy as np\n",
    "\n",
    "np.random.uniform(size=(3, 4)) # Calling the function `uniform()` in submodule `random`."
   ]
  },
  {
   "cell_type": "markdown",
   "metadata": {},
   "source": [
    "*__Note:__ PyPI just hosts people's packages; they do not guarantee the packages are safe. Be security-conscious and don't trust unknown packages.*"
   ]
  },
  {
   "cell_type": "markdown",
   "metadata": {},
   "source": [
    "#### Exercise 27\n",
    "\n",
    "If you don't have Matplotlib installed, run `pip install matplotlib`. Import the package `matplotlib.pyplot` as `plt`, and call `plt.plot(samples)` (`samples` was defined in Exercise 25)."
   ]
  },
  {
   "cell_type": "code",
   "execution_count": null,
   "metadata": {},
   "outputs": [],
   "source": [
    "# Your code here"
   ]
  },
  {
   "cell_type": "markdown",
   "metadata": {},
   "source": [
    "## 7 Classes and Objects\n",
    "\n",
    "### 7.1 Objects by Example\n",
    "\n",
    "So far, we have only considered built-in types (`int` for integers, `str` for strings, `list` for lists...), but that's not the only option. Python lets us define our own types, with custom behavior. An example is the `date` type defined in the standard library package `datetime`:"
   ]
  },
  {
   "cell_type": "code",
   "execution_count": null,
   "metadata": {},
   "outputs": [],
   "source": [
    "from datetime import date\n",
    "\n",
    "today = date.today()\n",
    "print(today)"
   ]
  },
  {
   "cell_type": "markdown",
   "metadata": {},
   "source": [
    "When we use `type()` to inspect the variable `today`, the full name is printed as `<module>.<type>`:"
   ]
  },
  {
   "cell_type": "code",
   "execution_count": null,
   "metadata": {},
   "outputs": [],
   "source": [
    "type(today)"
   ]
  },
  {
   "cell_type": "markdown",
   "metadata": {},
   "source": [
    "The variable `today` contains an *object* of type `datetime.date`. In turn, the object contains variables for the year, the month, and the day. You can access an object's variables by using a dot: `<object>.<variable>`. For example:"
   ]
  },
  {
   "cell_type": "code",
   "execution_count": null,
   "metadata": {},
   "outputs": [],
   "source": [
    "today.year"
   ]
  },
  {
   "cell_type": "markdown",
   "metadata": {},
   "source": [
    "These \"variables within variables\" are called *fields*. E.g., `year` is a field of the object stored in `today`, containing the date's year as an integer. Two other fields are `month` and `day`:"
   ]
  },
  {
   "cell_type": "code",
   "execution_count": null,
   "metadata": {},
   "outputs": [],
   "source": [
    "today.month, today.day"
   ]
  },
  {
   "cell_type": "markdown",
   "metadata": {},
   "source": [
    "As we mentioned previously, objects can also contain functions. Again, we use a dot to access them:"
   ]
  },
  {
   "cell_type": "code",
   "execution_count": null,
   "metadata": {},
   "outputs": [],
   "source": [
    "# Calculates the weekday corresponding to`today`, represented as a number (1 for Monday, 7 for Sunday).\n",
    "today.isoweekday()"
   ]
  },
  {
   "cell_type": "markdown",
   "metadata": {},
   "source": [
    "Note that `isoweekday()` knows about the date stored in `today`, even though we didn't follow the usual function syntax! When we use *dot notation* to call a function from an object, the function has access to the data in the containing object. You can think of it as if the call was `isoweekday(today)`.\n",
    "\n",
    "We call functions contained in objects *methods*. Another method in `datetime.date` is `toordinal()`:"
   ]
  },
  {
   "cell_type": "code",
   "execution_count": null,
   "metadata": {},
   "outputs": [],
   "source": [
    "today.toordinal() # Number of days since the 1st of January, 1 A.D."
   ]
  },
  {
   "cell_type": "markdown",
   "metadata": {},
   "source": [
    "#### Exercise 28\n",
    "\n",
    "1. Import the confusingly named `datetime` type from the `datetime` package. \n",
    "2. Use `datetime.now()` to create a `datetime` object, and store it in a variable called `now`. Print the contents of the variable, and its type.\n",
    "3. Display the contents of the field `now.hour`.\n",
    "4. Call the method `now.time()` to extract the time part (without the date). Display the results."
   ]
  },
  {
   "cell_type": "code",
   "execution_count": null,
   "metadata": {},
   "outputs": [],
   "source": [
    "# Your code here"
   ]
  },
  {
   "cell_type": "markdown",
   "metadata": {},
   "source": [
    "### 7.2 Types are Objects Too\n",
    "\n",
    "The *type* of an object is also an object, and can contain its own variables and functions. An example is the function `date.today()` that we saw above. Another example is the variable `date.max`, indicating the last date that this type can represent."
   ]
  },
  {
   "cell_type": "code",
   "execution_count": null,
   "metadata": {},
   "outputs": [],
   "source": [
    "print(date.max)"
   ]
  },
  {
   "cell_type": "markdown",
   "metadata": {},
   "source": [
    "Sometimes modules will offer helper functions like `date.today()` to create new objects. But how are *those* methods implemented? It can't be turtles all the way down!\n",
    "\n",
    "In Python, types are initialized using a *constructor*, a special function that has the same name as the type. For example, we can use the `date()` constructor to refer to a specific date:"
   ]
  },
  {
   "cell_type": "code",
   "execution_count": null,
   "metadata": {},
   "outputs": [],
   "source": [
    "birthday = date(year=1989, month=1, day=24)\n",
    "print(birthday)"
   ]
  },
  {
   "cell_type": "markdown",
   "metadata": {},
   "source": [
    "Custom types can also specify what happens if we try to use common operations on the object. You might have noticed that `print()` returns nicely printed dates; this is because `date` provides custom printing code. Similarly, `date` overrides the subtraction operation so we can obtain lengths of time:"
   ]
  },
  {
   "cell_type": "code",
   "execution_count": null,
   "metadata": {},
   "outputs": [],
   "source": [
    "between = today - birthday\n",
    "\n",
    "print(between)\n",
    "type(between)"
   ]
  },
  {
   "cell_type": "markdown",
   "metadata": {},
   "source": [
    "This is done by providing specially-named methods. You will obtain the same result as `today - then` if you call the method `today.__sub__()`:"
   ]
  },
  {
   "cell_type": "code",
   "execution_count": null,
   "metadata": {},
   "outputs": [],
   "source": [
    "# The code `today - then` is equivalent to this call:\n",
    "print(today.__sub__(birthday))"
   ]
  },
  {
   "cell_type": "markdown",
   "metadata": {},
   "source": [
    "`print()` and `str()` use another specially-named method: `__str__()`."
   ]
  },
  {
   "cell_type": "code",
   "execution_count": null,
   "metadata": {},
   "outputs": [],
   "source": [
    "today_as_string = today.__str__()\n",
    "same_string   = str(today)\n",
    "\n",
    "today_as_string, same_string"
   ]
  },
  {
   "cell_type": "markdown",
   "metadata": {},
   "source": [
    "#### Exercise 29\n",
    "\n",
    "1. Use the `datetime()` constructor to refer to a time in the past. Save the new object to a variable called `then`, and display its contents.\n",
    "2. Display the value of the class-level variable `datetime.resolution`. This shows the smallest span of time that can be represented by `datetime`.\n",
    "3. Display the result of subtracting `now - then`."
   ]
  },
  {
   "cell_type": "code",
   "execution_count": null,
   "metadata": {},
   "outputs": [],
   "source": [
    "# Your code here"
   ]
  },
  {
   "cell_type": "markdown",
   "metadata": {},
   "source": [
    "### 7.3 Custom Classes\n",
    "\n",
    "Not all languages conceptualize objects the same way. The style that Python follows -- with constructors and custom functions -- is generally called *Object Oriented Programming* (OOP). OOP types are usually called *classes*. If an object `obj` has type `Clazz`, then we say that `obj` is an *instance* of the class `Clazz`. If `obj` has a variable `obj.some_data`, this variable is called a *field* of `obj` (like a field in a form). If `obj` has a function `obj.f()`, and `f()` knows about `obj` without explicitly passing it in as a parameter, `f()` is called a *method* of `obj`.\n",
    "\n",
    "Let's create a custom class `Person`, to showcase how we would implement all the bits and pieces we discussed above."
   ]
  },
  {
   "cell_type": "code",
   "execution_count": null,
   "metadata": {},
   "outputs": [],
   "source": [
    "class Person:\n",
    "    max_arms = 2\n",
    "\n",
    "    def __init__(self, given_name, family_name, age):\n",
    "        self.given_name = given_name\n",
    "        self.family_name = family_name\n",
    "        self.age = age\n",
    "        self.adult = (age >= 18)\n",
    "\n",
    "    def birthday(self):\n",
    "        self.age += 1\n",
    "        if self.age == 18:\n",
    "            self.adult = True\n",
    "\n",
    "    def greet(self, other):\n",
    "        print(f\"{self.given_name} said hi to {other.given_name}!\")\n",
    "\n",
    "    def __str__(self):\n",
    "        if self.adult:\n",
    "            adult_string = \"adult\"\n",
    "        else:\n",
    "            adult_string = \"minor\"\n",
    "\n",
    "        return f\"{self.given_name} {self.family_name} (aged {self.age}; {adult_string})\""
   ]
  },
  {
   "cell_type": "markdown",
   "metadata": {},
   "source": [
    "Let's parse this step by step: as is becoming familiar, a class follows the structure\n",
    "\n",
    "```python\n",
    "class SomeClass:\n",
    "    statement_1\n",
    "    statement_2\n",
    "    ...\n",
    "```\n",
    "\n",
    "Any variables that are defined at this level are assigned to the class itself. For example, most people have a maximum of two arms:"
   ]
  },
  {
   "cell_type": "code",
   "execution_count": null,
   "metadata": {},
   "outputs": [],
   "source": [
    "Person.max_arms"
   ]
  },
  {
   "cell_type": "markdown",
   "metadata": {},
   "source": [
    "The first function definition we see is the constructor. Python calls the method `__init__()` to *initialize* a newly created object with relevant data. Let's see how this looks:"
   ]
  },
  {
   "cell_type": "code",
   "execution_count": null,
   "metadata": {},
   "outputs": [],
   "source": [
    "alice = Person(given_name=\"Alice\", family_name=\"Antioch\", age=25)\n",
    "bob   = Person(given_name=\"Bob\", family_name=\"Bellême\", age=16)\n",
    "\n",
    "alice, bob"
   ]
  },
  {
   "cell_type": "markdown",
   "metadata": {},
   "source": [
    "The \"canonical\" representation is not very helpful! Luckily, we have provided a `__str__()` method. If we call `print()`, we can see that `alice` and `bob` were initialized as we would expect."
   ]
  },
  {
   "cell_type": "code",
   "execution_count": null,
   "metadata": {},
   "outputs": [],
   "source": [
    "print(alice)\n",
    "print(bob)"
   ]
  },
  {
   "cell_type": "markdown",
   "metadata": {},
   "source": [
    "You might notice that we initialized some fields in `__init__()`, and we accessed them in `__str__()` to produce the nice output. This is done by writing\n",
    "\n",
    "\n",
    "```python\n",
    "self.some_variable = some_value\n",
    "```\n",
    "\n",
    "These variables can be accessed as usual with the dot notation:"
   ]
  },
  {
   "cell_type": "code",
   "execution_count": null,
   "metadata": {},
   "outputs": [],
   "source": [
    "alice.age, alice.adult"
   ]
  },
  {
   "cell_type": "markdown",
   "metadata": {},
   "source": [
    "When we celebrate a `Person`'s birthday, their age goes up by one:"
   ]
  },
  {
   "cell_type": "code",
   "execution_count": null,
   "metadata": {},
   "outputs": [],
   "source": [
    "print(f\"Before: {bob.age}\")\n",
    "bob.birthday()\n",
    "print(f\"After:  {bob.age}\")"
   ]
  },
  {
   "cell_type": "markdown",
   "metadata": {},
   "source": [
    "In other words, `birthday()` is a method that takes no arguments. You will notice all methods were defined with a first parameter called `self`. This is \"magically\" filled by Python with the current `Person` instance. In other words,\n",
    "\n",
    "`bob.birthday()`\n",
    "\n",
    "is just a nicer way to write\n",
    "\n",
    "`Person.birthday(bob)`\n",
    "\n",
    "In the second version, you can clearly see that `self` is filled with `bob`. Let's show this in practice:"
   ]
  },
  {
   "cell_type": "code",
   "execution_count": null,
   "metadata": {},
   "outputs": [],
   "source": [
    "Person.birthday(bob)\n",
    "print(bob) # Finally an adult!"
   ]
  },
  {
   "cell_type": "markdown",
   "metadata": {},
   "source": [
    "The method `greet()`, on the other hand, does take one (normal) argument: the `other` person to greet."
   ]
  },
  {
   "cell_type": "code",
   "execution_count": null,
   "metadata": {},
   "outputs": [],
   "source": [
    "alice.greet(bob)"
   ]
  },
  {
   "cell_type": "markdown",
   "metadata": {},
   "source": [
    "#### Exercise 30\n",
    "\n",
    "1. Create a new class called `Dog`. \n",
    "2. Include a class-level variable called `howling_target` with the value `\"the Moon\"`. \n",
    "3. Make a constructor that takes in a `name` and a `color`, and store them as fields in the newly created object (`self`). The constructor should also set a field called `happiness` to 10.\n",
    "4. Add a method called `pet()` that increases `happiness` by 1.\n",
    "5. Add a method called `sniff()` that takes a parameter called `friend`, and prints `\"<own name> the < own color> dog is sniffing <friend's name> the <friend's color> dog\"` (e.g., `\"Fluffy the brown dog is sniffing Snowball the black dog\"`). \n",
    "6. Add another method called `howl()` that prints `\"<name> howls at <howling_target>\"` (e.g., `\"Fluffy howls at the Moon\"`).\n",
    "7. Add the special method `__str__()` that returns the string `\"<name> is a <color> dog. Happiness: <happiness>\"`\n",
    "8. Test your new class by creating at least two instances, and trying out the different methods."
   ]
  },
  {
   "cell_type": "code",
   "execution_count": null,
   "metadata": {},
   "outputs": [],
   "source": [
    "# Your code here"
   ]
  },
  {
   "cell_type": "markdown",
   "metadata": {},
   "source": [
    "### 7.4 Inheritance\n",
    "\n",
    "Another OOP staple is the ability to extend a class by defining *derived classes* (or *child classes*) that *inherit* from the *base class* (or *parent class*, or *super-class*). The children have all the fields and methods from the parent, and can define more on top, or override the existing ones. In Python, we specify that a class is derived from another by adding the parent in parentheses:"
   ]
  },
  {
   "cell_type": "code",
   "execution_count": null,
   "metadata": {},
   "outputs": [],
   "source": [
    "class CoffeeDrinker(Person):\n",
    "    def __init__(self, given_name, family_name, age, max_coffees):\n",
    "        super().__init__(given_name, family_name, age)\n",
    "\n",
    "        self.max_coffees = max_coffees\n",
    "        self.current_coffees = 0\n",
    "\n",
    "    def drink_coffee(self):\n",
    "        print(\"Sipping on some coffee\")\n",
    "        self.current_coffees += 1\n",
    "\n",
    "    def sleep(self):\n",
    "        if self.current_coffees <= self.max_coffees:\n",
    "            print(\"Slept peacefully\")\n",
    "        else:\n",
    "            print(\"Too shaky to sleep!\")\n",
    "\n",
    "    def __str__(self):\n",
    "        person_string = super().__str__()\n",
    "        return person_string + f\" [{self.current_coffees} / {self.max_coffees} coffees]\""
   ]
  },
  {
   "cell_type": "code",
   "execution_count": null,
   "metadata": {},
   "outputs": [],
   "source": [
    "charlie = CoffeeDrinker(given_name=\"Charlie\", family_name=\"Cornwallis\", age=37, max_coffees=3)\n",
    "print(charlie)"
   ]
  },
  {
   "cell_type": "markdown",
   "metadata": {},
   "source": [
    "Observations:\n",
    "* We passed the base class `Person` in parentheses after the new class name. \n",
    "* We used `super()` to access the current object as an instance of the base class `Person` (this allows us to access the original methods that we are overriding).\n",
    "* The new `__init__()` needs to call the original `__init__()`, and provide whatever data is necessary to initialize the base class."
   ]
  },
  {
   "cell_type": "code",
   "execution_count": null,
   "metadata": {},
   "outputs": [],
   "source": [
    "charlie.drink_coffee()\n",
    "charlie.greet(alice)\n",
    "charlie.sleep()\n",
    "charlie.drink_coffee()\n",
    "charlie.drink_coffee()\n",
    "charlie.drink_coffee()\n",
    "charlie.sleep()\n",
    "# alice.drink_coffee() # Fails with message AttributeError: 'Person' object has no attribute 'drink_coffee'"
   ]
  },
  {
   "cell_type": "markdown",
   "metadata": {},
   "source": [
    "We can see that `charlie` has access to `greet()`, since a `CoffeeDrinker` is also a `Person`. But `charlie` also has access to `drink_coffee()` and `sleep()`, which are defined in the derived class."
   ]
  },
  {
   "cell_type": "markdown",
   "metadata": {},
   "source": [
    "#### Exercise 31\n",
    "\n",
    "1. Create a class named `Shepherd` that is derived from `Dog` (from Exercise 29).\n",
    "2. Create a constructor that takes any parameters needed to initialize the base class, plus a boolean parameter `fast`. Assign `fast` to a field with the same name.\n",
    "3. Create a method called `control()` that takes in a number of sheep `num_sheep`, and prints the sentence `\"<name> <style> went to check on the <num_sheep> sheep\"`, where `<style>` is `\"quickly\"` if the field `fast` is true, and `\"slowly\"` otherwise. E.g., `\"Buddy quickly went to check on the 5 sheep\"`.\n",
    "4. Override the method `__str__()` so it prints the same information as the base class version, followed by `\"; Fast: <fast>\"` (e.g., `\"Buddy is a white dog. Happiness: 10; Fast: True\"`).\n",
    "5. Provide a method called `__repr__()` that returns the same string as `__str__()`.\n",
    "6. Test your new class by creating at least one instance. Check that the new or overriden methods work as expected, and that you can use the methods and variables defined in `Dog`."
   ]
  },
  {
   "cell_type": "code",
   "execution_count": null,
   "metadata": {},
   "outputs": [],
   "source": [
    "# Your code here"
   ]
  },
  {
   "cell_type": "markdown",
   "metadata": {},
   "source": [
    "### 7.5 Errors\n",
    "\n",
    "A last staple of OOP languages are *errors* or *exceptions*. When something goes wrong, we can stop what we're doing immediately by *raising an error* (or *throwing an exception*). The following cell fails with a `ZeroDivisionError`:"
   ]
  },
  {
   "cell_type": "code",
   "execution_count": null,
   "metadata": {},
   "outputs": [],
   "source": [
    "2 / 0"
   ]
  },
  {
   "cell_type": "markdown",
   "metadata": {},
   "source": [
    "We can raise our own exceptions with the keyword `raise`. In Python, custom errors typically are instances of the `Exception` base class, or a class derived from it."
   ]
  },
  {
   "cell_type": "code",
   "execution_count": null,
   "metadata": {},
   "outputs": [],
   "source": [
    "print(\"We reach this statement\")\n",
    "raise Exception(\"We raise an exception here\")\n",
    "print(\"We never reach this one\")"
   ]
  },
  {
   "cell_type": "markdown",
   "metadata": {},
   "source": [
    "*__Note:__ In a notebook, if a cell fails with an exception, no more cells will be executed. If you pressed the button to run all cells, the code below this point will not have been run.*"
   ]
  },
  {
   "cell_type": "markdown",
   "metadata": {},
   "source": [
    "If you expect that an error might happen in a piece of code, and want to react in a more elegant way, you can use a *try statement*. In its most basic form, it looks like this:\n",
    "\n",
    "```python\n",
    "try:\n",
    "    this_may_fail_1\n",
    "    this_may_fail_2\n",
    "    ...\n",
    "except:\n",
    "    recovery_statement_1\n",
    "    recovery_statement_2\n",
    "    ...\n",
    "```\n",
    "\n",
    "Let's consider division again:"
   ]
  },
  {
   "cell_type": "code",
   "execution_count": null,
   "metadata": {},
   "outputs": [],
   "source": [
    "divisors  = [ 1, 5, 3, 0, 2 ]\n",
    "dividends = [ 5, 0, 9, 1, 3 ]\n",
    "\n",
    "for i in range(5):\n",
    "    try:\n",
    "        top = divisors[i]\n",
    "        bottom = dividends[i]\n",
    "        print(f\"[{i}] {top} / {bottom} is {top / bottom}\")\n",
    "    except:\n",
    "        print(f\"[{i}] Error caught\")"
   ]
  },
  {
   "cell_type": "markdown",
   "metadata": {},
   "source": [
    "If we just want to suppress the error, we can *do nothing* on the except-block. This is achieved with the `pass` keyword:"
   ]
  },
  {
   "cell_type": "code",
   "execution_count": null,
   "metadata": {},
   "outputs": [],
   "source": [
    "divisors  = [ 1, 5, 3, 0, 2 ]\n",
    "dividends = [ 5, 0, 9, 1, 3 ]\n",
    "\n",
    "for i in range(5):\n",
    "    try:\n",
    "        top = divisors[i]\n",
    "        bottom = dividends[i]\n",
    "        print(f\"[{i}] {top} / {bottom} is {top / bottom}\")\n",
    "    except:\n",
    "        pass # Do nothing."
   ]
  },
  {
   "cell_type": "markdown",
   "metadata": {},
   "source": [
    "`pass` can be used to leave anything empty when it would normally require an indented code block.\n",
    "\n",
    "For example, if we are writing new code and know we will need a function later on, but we want to leave it empty for now:"
   ]
  },
  {
   "cell_type": "code",
   "execution_count": null,
   "metadata": {},
   "outputs": [],
   "source": [
    "def does_nothing():\n",
    "    pass # Try commenting out this line. What fails?\n",
    "\n",
    "does_nothing()"
   ]
  },
  {
   "cell_type": "markdown",
   "metadata": {},
   "source": [
    "Sometimes, we just want to guarantee that an action (usually some kind of cleanup) happens even if an exception is raised. In that case, we can use `finally`:\n",
    "\n",
    "```python\n",
    "try:\n",
    "    fallible_code\n",
    "    ...\n",
    "finally:\n",
    "    code_here_always_runs\n",
    "    ...\n",
    "\n",
    "code_here_may_not_run\n",
    "...\n",
    "```"
   ]
  },
  {
   "cell_type": "code",
   "execution_count": null,
   "metadata": {},
   "outputs": [],
   "source": [
    "divisors = [ 1, 5, 3, 0, 2 ]\n",
    "dividends = [ 5, 0, 9, 1, 3 ]\n",
    "\n",
    "for i in range(5):\n",
    "    try:\n",
    "        top = divisors[i]\n",
    "        bottom = dividends[i]\n",
    "        print(f\"[{i}] {top} / {bottom} is {top / bottom}\")\n",
    "    finally:\n",
    "        print(f\"[{i}] done\")"
   ]
  },
  {
   "cell_type": "markdown",
   "metadata": {},
   "source": [
    "#### Exercise 32\n",
    "\n",
    "Rewrite the code below using try / catch, so that all valid strings are printed."
   ]
  },
  {
   "cell_type": "code",
   "execution_count": null,
   "metadata": {},
   "outputs": [],
   "source": [
    "# Original code (fails with AttributeError because yell() expects strings, and `True` is not a string).\n",
    "\n",
    "values = [ \"Hello\", \"Hola\", \"你好\", True, \"Bonjour\", \"καλιμέρα\" ]\n",
    "\n",
    "for value in values:\n",
    "    utterance = yell(value)\n",
    "    print(utterance)"
   ]
  },
  {
   "cell_type": "code",
   "execution_count": null,
   "metadata": {},
   "outputs": [],
   "source": [
    "# Your code here"
   ]
  },
  {
   "cell_type": "markdown",
   "metadata": {},
   "source": [
    "#### Exercise 33\n",
    "\n",
    "Rewrite the code below using try / finally, so the error is still raised, but `done` is consistently set to true."
   ]
  },
  {
   "cell_type": "code",
   "execution_count": null,
   "metadata": {},
   "outputs": [],
   "source": [
    "# Original code (fails with ValueError because we pass a negative number)\n",
    "\n",
    "done = False\n",
    "values = [ 10, 1, 7, -2 ]\n",
    "\n",
    "for value in values:\n",
    "    root = math.sqrt(value)\n",
    "    print(f\"The square root of {value} is {root}\")\n",
    "\n",
    "done = True"
   ]
  },
  {
   "cell_type": "code",
   "execution_count": null,
   "metadata": {},
   "outputs": [],
   "source": [
    "print(done)"
   ]
  },
  {
   "cell_type": "code",
   "execution_count": null,
   "metadata": {},
   "outputs": [],
   "source": [
    "# Your code here"
   ]
  },
  {
   "cell_type": "code",
   "execution_count": null,
   "metadata": {},
   "outputs": [],
   "source": [
    "print(done)"
   ]
  },
  {
   "cell_type": "markdown",
   "metadata": {},
   "source": [
    "## 8 With Statements\n",
    "\n",
    "A last language structure we want to introduce here are `with` statements:\n",
    "\n",
    "```python\n",
    "with expression as variable:\n",
    "    statement_using_variable\n",
    "    ...\n",
    "```\n",
    "\n",
    "It's best shown with an example: we will read the text file `python_crash_course_text.txt` and print its lines."
   ]
  },
  {
   "cell_type": "code",
   "execution_count": null,
   "metadata": {},
   "outputs": [],
   "source": [
    "with open(\"python_crash_course_text.txt\", \"r\") as file:\n",
    "    for line_number, line_contents in enumerate(file.readlines()):\n",
    "        print(f\"[{line_number}] {line_contents.strip()}\")"
   ]
  },
  {
   "cell_type": "markdown",
   "metadata": {},
   "source": [
    "The first paragraph of [The Raven](https://en.wikisource.org/wiki/The_Raven_and_Other_Poems/The_Raven), nicely enumerated.\n",
    "\n",
    "We used the built-in function `open()` to open a file (`\"python_crash_course_text.txt\"`) in *read mode* (`\"r\"`). Because we are managing OS resources, some work needs to be done before we start using the file, and after we finish using the file. The `with` block takes care of any setup and teardown, and gives us a local variable to use within the block (`file`). In the block, we used `file` to print the poem, line by line. \n",
    "\n",
    "The whole process that happens behind-the-scenes is a bit complicated, but worth a look:\n",
    "\n",
    "1. `open()` returns a *manager* that defines `__enter__()` and `__exit__()` methods to handle setup work and teardown work, respectively.\n",
    "2. The `with` block calls `__enter__()`. The manager talks to the OS to give us access to the file contents, and returns a *file handle*. We store the return value in `file`.\n",
    "3. We can use `file` inside the `with` block to read the contents. In this case, we used `file.readlines()` to iterate over each line of text.\n",
    "4. When the block is done, or if something breaks, the `with` block calls `__exit__()` to make sure the OS knows we are done with the file and can free the appropriate resources.\n",
    "\n",
    "The equivalent code without a `with` block would look something like this:"
   ]
  },
  {
   "cell_type": "code",
   "execution_count": null,
   "metadata": {},
   "outputs": [],
   "source": [
    "manager = open(\"python_crash_course_text.txt\", \"r\")\n",
    "file = manager.__enter__()\n",
    "\n",
    "try:\n",
    "    for line_number, line_contents in enumerate(file.readlines()):\n",
    "        print(f\"[{line_number}] {line_contents.strip()}\")\n",
    "finally:\n",
    "    manager.__exit__()"
   ]
  },
  {
   "cell_type": "markdown",
   "metadata": {},
   "source": [
    "The `strip()` method in strings removes any whitespace at the beginning or end of a string. We used it in `line_contents` to get rid of the newline character at the end of the line. You can check what happens if you remove this call."
   ]
  },
  {
   "cell_type": "markdown",
   "metadata": {},
   "source": [
    "#### Exercise 34\n",
    "\n",
    "1. Create a file called `my_text.txt` in the folder containing this notebook, and write some text into it.\n",
    "2. Use `open()` in a `with` block to obtain a `file` handle like we did above.\n",
    "3. Inside the `with` block, use `file.read()` to obtain *the whole text*. Save it to a variable named `text`.\n",
    "4. Display `text` *outside* the `with` block."
   ]
  },
  {
   "cell_type": "code",
   "execution_count": null,
   "metadata": {},
   "outputs": [],
   "source": [
    "# Your code here"
   ]
  },
  {
   "cell_type": "markdown",
   "metadata": {},
   "source": [
    "## 9 Documentation\n",
    "\n",
    "An old saying claims *\"code is read many more times than it is written\"*. The readers can be your co-workers if you participate in a big project, but it can also be yourself in a few months when you revisit an old piece of code, and don't remember the details. Because of this, it's important to help ourselves and others read and understand the code. Part of it is *documenting* what the code does, why, and how.\n",
    "\n",
    "We have seen one way to document code so far: comments. They can be some help, but there are other tools provided by the language thant can help even more."
   ]
  },
  {
   "cell_type": "markdown",
   "metadata": {},
   "source": [
    "### 9.1 Type Annotations\n",
    "\n",
    "We have seen every variable in Python has a type that we can access with the function `type()`. We have also written functions that assume their inputs are of a certain type. We can call functions with unexpected inputs, and they will fail:"
   ]
  },
  {
   "cell_type": "code",
   "execution_count": null,
   "metadata": {},
   "outputs": [],
   "source": [
    "yell(101)"
   ]
  },
  {
   "cell_type": "markdown",
   "metadata": {},
   "source": [
    "To alleviate this, we can explicitly annotate the type expected in each parameter using the notation `<parameter>: <type>`. For example:"
   ]
  },
  {
   "cell_type": "code",
   "execution_count": null,
   "metadata": {},
   "outputs": [],
   "source": [
    "# greet() takes a string and returns nothing.\n",
    "def greet(name: str):\n",
    "    print(f\"Hi, {name}!\")\n",
    "\n",
    "greet(\"you\")"
   ]
  },
  {
   "cell_type": "markdown",
   "metadata": {},
   "source": [
    "With modern IDE support, anyone using `greet()` will be informed that the function expects string inputs."
   ]
  },
  {
   "cell_type": "markdown",
   "metadata": {},
   "source": [
    "We can also annotate the return type of a function by adding `-> <type>` before the colon:"
   ]
  },
  {
   "cell_type": "code",
   "execution_count": null,
   "metadata": {},
   "outputs": [],
   "source": [
    "# groot() takes nothing and returns a string.\n",
    "def groot() -> str:\n",
    "    return \"Groot!\"\n",
    "\n",
    "a_string = groot()\n",
    "a_string"
   ]
  },
  {
   "cell_type": "markdown",
   "metadata": {},
   "source": [
    "We can indicate that a function returns nothing by using the special value `None`:"
   ]
  },
  {
   "cell_type": "code",
   "execution_count": null,
   "metadata": {},
   "outputs": [],
   "source": [
    "# more() takes a list and returns nothing.\n",
    "def more(values: list) -> None:\n",
    "    values.append(\"MORE\")\n",
    "\n",
    "values = []\n",
    "\n",
    "more(values)\n",
    "more(values)\n",
    "more(values)\n",
    "\n",
    "print(values)"
   ]
  },
  {
   "cell_type": "markdown",
   "metadata": {},
   "source": [
    "#### Exercise 35\n",
    "\n",
    "1. Define a function `double()` that takes in a floating-point number and returns it multiplied by two. Use type annotations for the parameter and the return type.\n",
    "2. Define a function called `hello_world()` that takes in nothing, returns nothing, and prints `hello, world!` when it runs. Use type annotations."
   ]
  },
  {
   "cell_type": "code",
   "execution_count": null,
   "metadata": {},
   "outputs": [],
   "source": [
    "# Your code here."
   ]
  },
  {
   "cell_type": "markdown",
   "metadata": {},
   "source": [
    "Type annotations can also be used in variable declarations:"
   ]
  },
  {
   "cell_type": "code",
   "execution_count": null,
   "metadata": {},
   "outputs": [],
   "source": [
    "typed_list_of_ints: list[int] = []\n",
    "\n",
    "for i in range(5):\n",
    "    typed_list_of_ints.append(i)\n",
    "\n",
    "typed_list_of_ints"
   ]
  },
  {
   "cell_type": "markdown",
   "metadata": {},
   "source": [
    "The special notation `list[int]` indicates that the items in the list are integers. Similarly, if we want to indicate that a dict's keys are strings and its values are floating-point numbers, we can write:"
   ]
  },
  {
   "cell_type": "code",
   "execution_count": null,
   "metadata": {},
   "outputs": [],
   "source": [
    "typed_dict: dict[str, float] = {}\n",
    "typed_dict[\"UU\"] = 1477.0\n",
    "typed_dict"
   ]
  },
  {
   "cell_type": "markdown",
   "metadata": {},
   "source": [
    "### 9.2 Docstrings\n",
    "\n",
    "Functions, classes and modules can be further described by adding a *docstring*, a special string attached to the object. We can consult the docstring and other details with the built-in function `help()` (or by hovering over the object in most IDEs)."
   ]
  },
  {
   "cell_type": "code",
   "execution_count": null,
   "metadata": {},
   "outputs": [],
   "source": [
    "help(local)"
   ]
  },
  {
   "cell_type": "markdown",
   "metadata": {},
   "source": [
    "In the above printout, we see two doctrings from our local module:\n",
    "\n",
    "1. The module docstring (`A module is anything...`)\n",
    "2. A function docstring (`Add a random amount of diacritics...`)\n",
    "\n",
    "You can inspect the module to see how we added the docstrings."
   ]
  },
  {
   "cell_type": "markdown",
   "metadata": {},
   "source": [
    "To add a docstring to a function, you just need to start the function with a string:"
   ]
  },
  {
   "cell_type": "code",
   "execution_count": null,
   "metadata": {},
   "outputs": [],
   "source": [
    "def function_with_docstring(n: int) -> str:\n",
    "    \"\"\"Returns a string containing `n`, repeated `n` times (separated by spaces).\"\"\"\n",
    "    return \" \".join(str(n) * n)\n",
    "\n",
    "help(function_with_docstring)"
   ]
  },
  {
   "cell_type": "code",
   "execution_count": null,
   "metadata": {},
   "outputs": [],
   "source": [
    "function_with_docstring(4)"
   ]
  },
  {
   "cell_type": "markdown",
   "metadata": {},
   "source": [
    "By convention, docstrings are written using triple quotes (`\"\"\"`). In Python, a string delimited with triple quotes is a *multi-line string* that can span multiple lines:"
   ]
  },
  {
   "cell_type": "code",
   "execution_count": null,
   "metadata": {},
   "outputs": [],
   "source": [
    "multiline_string = \"\"\"Hello\n",
    "  there\n",
    "how are you?\n",
    "\"\"\"\n",
    "\n",
    "print(\"----------------\")\n",
    "print(multiline_string)\n",
    "print(\"----------------\")"
   ]
  },
  {
   "cell_type": "markdown",
   "metadata": {},
   "source": [
    "#### Exercise 36\n",
    "\n",
    "Write a class called `DocstringClass` that does nothing, and has a docstring with some text. Print the class-level variable `__doc__`."
   ]
  },
  {
   "cell_type": "code",
   "execution_count": null,
   "metadata": {},
   "outputs": [],
   "source": [
    "# Your code here."
   ]
  }
 ],
 "metadata": {
  "interpreter": {
   "hash": "f9f85f796d01129d0dd105a088854619f454435301f6ffec2fea96ecbd9be4ac"
  },
  "kernelspec": {
   "display_name": "Python 3.9.5 64-bit",
   "language": "python",
   "name": "python3"
  },
  "language_info": {
   "codemirror_mode": {
    "name": "ipython",
    "version": 3
   },
   "file_extension": ".py",
   "mimetype": "text/x-python",
   "name": "python",
   "nbconvert_exporter": "python",
   "pygments_lexer": "ipython3",
   "version": "3.10.13"
  },
  "orig_nbformat": 4
 },
 "nbformat": 4,
 "nbformat_minor": 2
}
